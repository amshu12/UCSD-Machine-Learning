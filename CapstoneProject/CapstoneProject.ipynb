{
 "cells": [
  {
   "cell_type": "code",
   "execution_count": 1,
   "id": "ef24abbc",
   "metadata": {},
   "outputs": [],
   "source": [
    "import pandas as pd\n",
    "import matplotlib.pyplot as plt\n",
    "\n",
    "%matplotlib inline"
   ]
  },
  {
   "cell_type": "code",
   "execution_count": 2,
   "id": "689ecd1d",
   "metadata": {},
   "outputs": [
    {
     "data": {
      "text/plain": [
       "'1.1.3'"
      ]
     },
     "execution_count": 2,
     "metadata": {},
     "output_type": "execute_result"
    }
   ],
   "source": [
    "pd.__version__"
   ]
  },
  {
   "cell_type": "code",
   "execution_count": 3,
   "id": "66ce96d5",
   "metadata": {},
   "outputs": [],
   "source": [
    "# Read the CSV data into a DataFrame object\n",
    "insuranceData = pd.read_csv('insurance.csv')"
   ]
  },
  {
   "cell_type": "code",
   "execution_count": 80,
   "id": "675ac8c8",
   "metadata": {},
   "outputs": [
    {
     "name": "stdout",
     "output_type": "stream",
     "text": [
      "<class 'pandas.core.frame.DataFrame'>\n",
      "Int64Index: 1338 entries, 0 to 1337\n",
      "Data columns (total 7 columns):\n",
      " #   Column    Non-Null Count  Dtype  \n",
      "---  ------    --------------  -----  \n",
      " 0   age       1338 non-null   int64  \n",
      " 1   sex       1338 non-null   object \n",
      " 2   bmi       1338 non-null   float64\n",
      " 3   children  1338 non-null   int64  \n",
      " 4   smoker    1338 non-null   object \n",
      " 5   region    1338 non-null   object \n",
      " 6   charges   1338 non-null   float64\n",
      "dtypes: float64(2), int64(2), object(3)\n",
      "memory usage: 123.6+ KB\n"
     ]
    }
   ],
   "source": [
    "# Examine the columns (features) of the dataset\n",
    "insuranceData.info()"
   ]
  },
  {
   "cell_type": "code",
   "execution_count": 81,
   "id": "830cbfb9",
   "metadata": {},
   "outputs": [
    {
     "data": {
      "text/html": [
       "<div>\n",
       "<style scoped>\n",
       "    .dataframe tbody tr th:only-of-type {\n",
       "        vertical-align: middle;\n",
       "    }\n",
       "\n",
       "    .dataframe tbody tr th {\n",
       "        vertical-align: top;\n",
       "    }\n",
       "\n",
       "    .dataframe thead th {\n",
       "        text-align: right;\n",
       "    }\n",
       "</style>\n",
       "<table border=\"1\" class=\"dataframe\">\n",
       "  <thead>\n",
       "    <tr style=\"text-align: right;\">\n",
       "      <th></th>\n",
       "      <th>age</th>\n",
       "      <th>sex</th>\n",
       "      <th>bmi</th>\n",
       "      <th>children</th>\n",
       "      <th>smoker</th>\n",
       "      <th>region</th>\n",
       "      <th>charges</th>\n",
       "    </tr>\n",
       "  </thead>\n",
       "  <tbody>\n",
       "    <tr>\n",
       "      <th>0</th>\n",
       "      <td>19</td>\n",
       "      <td>female</td>\n",
       "      <td>27.900</td>\n",
       "      <td>0</td>\n",
       "      <td>yes</td>\n",
       "      <td>southwest</td>\n",
       "      <td>16884.92400</td>\n",
       "    </tr>\n",
       "    <tr>\n",
       "      <th>1</th>\n",
       "      <td>18</td>\n",
       "      <td>male</td>\n",
       "      <td>33.770</td>\n",
       "      <td>1</td>\n",
       "      <td>no</td>\n",
       "      <td>southeast</td>\n",
       "      <td>1725.55230</td>\n",
       "    </tr>\n",
       "    <tr>\n",
       "      <th>2</th>\n",
       "      <td>28</td>\n",
       "      <td>male</td>\n",
       "      <td>33.000</td>\n",
       "      <td>3</td>\n",
       "      <td>no</td>\n",
       "      <td>southeast</td>\n",
       "      <td>4449.46200</td>\n",
       "    </tr>\n",
       "    <tr>\n",
       "      <th>3</th>\n",
       "      <td>33</td>\n",
       "      <td>male</td>\n",
       "      <td>22.705</td>\n",
       "      <td>0</td>\n",
       "      <td>no</td>\n",
       "      <td>northwest</td>\n",
       "      <td>21984.47061</td>\n",
       "    </tr>\n",
       "    <tr>\n",
       "      <th>4</th>\n",
       "      <td>32</td>\n",
       "      <td>male</td>\n",
       "      <td>28.880</td>\n",
       "      <td>0</td>\n",
       "      <td>no</td>\n",
       "      <td>northwest</td>\n",
       "      <td>3866.85520</td>\n",
       "    </tr>\n",
       "  </tbody>\n",
       "</table>\n",
       "</div>"
      ],
      "text/plain": [
       "   age     sex     bmi  children smoker     region      charges\n",
       "0   19  female  27.900         0    yes  southwest  16884.92400\n",
       "1   18    male  33.770         1     no  southeast   1725.55230\n",
       "2   28    male  33.000         3     no  southeast   4449.46200\n",
       "3   33    male  22.705         0     no  northwest  21984.47061\n",
       "4   32    male  28.880         0     no  northwest   3866.85520"
      ]
     },
     "execution_count": 81,
     "metadata": {},
     "output_type": "execute_result"
    }
   ],
   "source": [
    "# Get a glimpse of the first 5 rows of the insurance dataset\n",
    "insuranceData.head()"
   ]
  },
  {
   "cell_type": "code",
   "execution_count": 82,
   "id": "1935faee",
   "metadata": {},
   "outputs": [
    {
     "data": {
      "text/html": [
       "<div>\n",
       "<style scoped>\n",
       "    .dataframe tbody tr th:only-of-type {\n",
       "        vertical-align: middle;\n",
       "    }\n",
       "\n",
       "    .dataframe tbody tr th {\n",
       "        vertical-align: top;\n",
       "    }\n",
       "\n",
       "    .dataframe thead th {\n",
       "        text-align: right;\n",
       "    }\n",
       "</style>\n",
       "<table border=\"1\" class=\"dataframe\">\n",
       "  <thead>\n",
       "    <tr style=\"text-align: right;\">\n",
       "      <th></th>\n",
       "      <th>age</th>\n",
       "      <th>sex</th>\n",
       "      <th>bmi</th>\n",
       "      <th>children</th>\n",
       "      <th>smoker</th>\n",
       "      <th>region</th>\n",
       "      <th>charges</th>\n",
       "    </tr>\n",
       "  </thead>\n",
       "  <tbody>\n",
       "    <tr>\n",
       "      <th>1333</th>\n",
       "      <td>50</td>\n",
       "      <td>male</td>\n",
       "      <td>30.97</td>\n",
       "      <td>3</td>\n",
       "      <td>no</td>\n",
       "      <td>northwest</td>\n",
       "      <td>10600.5483</td>\n",
       "    </tr>\n",
       "    <tr>\n",
       "      <th>1334</th>\n",
       "      <td>18</td>\n",
       "      <td>female</td>\n",
       "      <td>31.92</td>\n",
       "      <td>0</td>\n",
       "      <td>no</td>\n",
       "      <td>northeast</td>\n",
       "      <td>2205.9808</td>\n",
       "    </tr>\n",
       "    <tr>\n",
       "      <th>1335</th>\n",
       "      <td>18</td>\n",
       "      <td>female</td>\n",
       "      <td>36.85</td>\n",
       "      <td>0</td>\n",
       "      <td>no</td>\n",
       "      <td>southeast</td>\n",
       "      <td>1629.8335</td>\n",
       "    </tr>\n",
       "    <tr>\n",
       "      <th>1336</th>\n",
       "      <td>21</td>\n",
       "      <td>female</td>\n",
       "      <td>25.80</td>\n",
       "      <td>0</td>\n",
       "      <td>no</td>\n",
       "      <td>southwest</td>\n",
       "      <td>2007.9450</td>\n",
       "    </tr>\n",
       "    <tr>\n",
       "      <th>1337</th>\n",
       "      <td>61</td>\n",
       "      <td>female</td>\n",
       "      <td>29.07</td>\n",
       "      <td>0</td>\n",
       "      <td>yes</td>\n",
       "      <td>northwest</td>\n",
       "      <td>29141.3603</td>\n",
       "    </tr>\n",
       "  </tbody>\n",
       "</table>\n",
       "</div>"
      ],
      "text/plain": [
       "      age     sex    bmi  children smoker     region     charges\n",
       "1333   50    male  30.97         3     no  northwest  10600.5483\n",
       "1334   18  female  31.92         0     no  northeast   2205.9808\n",
       "1335   18  female  36.85         0     no  southeast   1629.8335\n",
       "1336   21  female  25.80         0     no  southwest   2007.9450\n",
       "1337   61  female  29.07         0    yes  northwest  29141.3603"
      ]
     },
     "execution_count": 82,
     "metadata": {},
     "output_type": "execute_result"
    }
   ],
   "source": [
    "# Get a glimpse of the last 5 rows of the insurance dataset\n",
    "insuranceData.tail()"
   ]
  },
  {
   "cell_type": "code",
   "execution_count": 83,
   "id": "9ddc50d4",
   "metadata": {},
   "outputs": [
    {
     "data": {
      "text/plain": [
       "1338"
      ]
     },
     "execution_count": 83,
     "metadata": {},
     "output_type": "execute_result"
    }
   ],
   "source": [
    "# Check how many rows are in the dataset\n",
    "len(insuranceData)"
   ]
  },
  {
   "cell_type": "code",
   "execution_count": 84,
   "id": "e5050582",
   "metadata": {},
   "outputs": [
    {
     "name": "stdout",
     "output_type": "stream",
     "text": [
      "Total insurance data rows:  1338\n"
     ]
    }
   ],
   "source": [
    "print('Total insurance data rows: ',len(insuranceData))"
   ]
  },
  {
   "cell_type": "code",
   "execution_count": 9,
   "id": "6b60bbdf",
   "metadata": {},
   "outputs": [
    {
     "data": {
      "text/plain": [
       "pandas.core.frame.DataFrame"
      ]
     },
     "execution_count": 9,
     "metadata": {},
     "output_type": "execute_result"
    }
   ],
   "source": [
    "type(insuranceData)"
   ]
  },
  {
   "cell_type": "code",
   "execution_count": 10,
   "id": "dfa3ae14",
   "metadata": {},
   "outputs": [
    {
     "name": "stdout",
     "output_type": "stream",
     "text": [
      "age         0\n",
      "sex         0\n",
      "bmi         0\n",
      "children    0\n",
      "smoker      0\n",
      "region      0\n",
      "charges     0\n",
      "dtype: int64\n"
     ]
    }
   ],
   "source": [
    "# Check if there are any null values in the dataset\n",
    "print(insuranceData.isnull().sum())"
   ]
  },
  {
   "cell_type": "code",
   "execution_count": 11,
   "id": "61e9673b",
   "metadata": {},
   "outputs": [],
   "source": [
    "# Drop any null values\n",
    "insuranceData.dropna(inplace=True)"
   ]
  },
  {
   "cell_type": "code",
   "execution_count": 12,
   "id": "852a66a8",
   "metadata": {},
   "outputs": [
    {
     "name": "stdout",
     "output_type": "stream",
     "text": [
      "Total insurance data rows:  1338\n"
     ]
    }
   ],
   "source": [
    "print('Total insurance data rows: ',len(insuranceData))"
   ]
  },
  {
   "cell_type": "code",
   "execution_count": 13,
   "id": "de92afe8",
   "metadata": {},
   "outputs": [],
   "source": [
    "insuranceDataAge=insuranceData[\"age\"].to_frame()"
   ]
  },
  {
   "cell_type": "code",
   "execution_count": 14,
   "id": "52848fa0",
   "metadata": {},
   "outputs": [],
   "source": [
    "insuranceDataAge.columns =[ 'age']"
   ]
  },
  {
   "cell_type": "code",
   "execution_count": 15,
   "id": "a5e4f7d8",
   "metadata": {},
   "outputs": [
    {
     "data": {
      "text/html": [
       "<div>\n",
       "<style scoped>\n",
       "    .dataframe tbody tr th:only-of-type {\n",
       "        vertical-align: middle;\n",
       "    }\n",
       "\n",
       "    .dataframe tbody tr th {\n",
       "        vertical-align: top;\n",
       "    }\n",
       "\n",
       "    .dataframe thead th {\n",
       "        text-align: right;\n",
       "    }\n",
       "</style>\n",
       "<table border=\"1\" class=\"dataframe\">\n",
       "  <thead>\n",
       "    <tr style=\"text-align: right;\">\n",
       "      <th></th>\n",
       "      <th>age</th>\n",
       "    </tr>\n",
       "  </thead>\n",
       "  <tbody>\n",
       "    <tr>\n",
       "      <th>0</th>\n",
       "      <td>19</td>\n",
       "    </tr>\n",
       "    <tr>\n",
       "      <th>1</th>\n",
       "      <td>18</td>\n",
       "    </tr>\n",
       "    <tr>\n",
       "      <th>2</th>\n",
       "      <td>28</td>\n",
       "    </tr>\n",
       "    <tr>\n",
       "      <th>3</th>\n",
       "      <td>33</td>\n",
       "    </tr>\n",
       "    <tr>\n",
       "      <th>4</th>\n",
       "      <td>32</td>\n",
       "    </tr>\n",
       "    <tr>\n",
       "      <th>...</th>\n",
       "      <td>...</td>\n",
       "    </tr>\n",
       "    <tr>\n",
       "      <th>1333</th>\n",
       "      <td>50</td>\n",
       "    </tr>\n",
       "    <tr>\n",
       "      <th>1334</th>\n",
       "      <td>18</td>\n",
       "    </tr>\n",
       "    <tr>\n",
       "      <th>1335</th>\n",
       "      <td>18</td>\n",
       "    </tr>\n",
       "    <tr>\n",
       "      <th>1336</th>\n",
       "      <td>21</td>\n",
       "    </tr>\n",
       "    <tr>\n",
       "      <th>1337</th>\n",
       "      <td>61</td>\n",
       "    </tr>\n",
       "  </tbody>\n",
       "</table>\n",
       "<p>1338 rows × 1 columns</p>\n",
       "</div>"
      ],
      "text/plain": [
       "      age\n",
       "0      19\n",
       "1      18\n",
       "2      28\n",
       "3      33\n",
       "4      32\n",
       "...   ...\n",
       "1333   50\n",
       "1334   18\n",
       "1335   18\n",
       "1336   21\n",
       "1337   61\n",
       "\n",
       "[1338 rows x 1 columns]"
      ]
     },
     "execution_count": 15,
     "metadata": {},
     "output_type": "execute_result"
    }
   ],
   "source": [
    "insuranceDataAge"
   ]
  },
  {
   "cell_type": "code",
   "execution_count": 16,
   "id": "451c004a",
   "metadata": {},
   "outputs": [
    {
     "data": {
      "text/html": [
       "<div>\n",
       "<style scoped>\n",
       "    .dataframe tbody tr th:only-of-type {\n",
       "        vertical-align: middle;\n",
       "    }\n",
       "\n",
       "    .dataframe tbody tr th {\n",
       "        vertical-align: top;\n",
       "    }\n",
       "\n",
       "    .dataframe thead th {\n",
       "        text-align: right;\n",
       "    }\n",
       "</style>\n",
       "<table border=\"1\" class=\"dataframe\">\n",
       "  <thead>\n",
       "    <tr style=\"text-align: right;\">\n",
       "      <th></th>\n",
       "      <th>age</th>\n",
       "    </tr>\n",
       "  </thead>\n",
       "  <tbody>\n",
       "    <tr>\n",
       "      <th>1248</th>\n",
       "      <td>18</td>\n",
       "    </tr>\n",
       "    <tr>\n",
       "      <th>482</th>\n",
       "      <td>18</td>\n",
       "    </tr>\n",
       "    <tr>\n",
       "      <th>492</th>\n",
       "      <td>18</td>\n",
       "    </tr>\n",
       "    <tr>\n",
       "      <th>525</th>\n",
       "      <td>18</td>\n",
       "    </tr>\n",
       "    <tr>\n",
       "      <th>529</th>\n",
       "      <td>18</td>\n",
       "    </tr>\n",
       "    <tr>\n",
       "      <th>...</th>\n",
       "      <td>...</td>\n",
       "    </tr>\n",
       "    <tr>\n",
       "      <th>398</th>\n",
       "      <td>64</td>\n",
       "    </tr>\n",
       "    <tr>\n",
       "      <th>335</th>\n",
       "      <td>64</td>\n",
       "    </tr>\n",
       "    <tr>\n",
       "      <th>378</th>\n",
       "      <td>64</td>\n",
       "    </tr>\n",
       "    <tr>\n",
       "      <th>1265</th>\n",
       "      <td>64</td>\n",
       "    </tr>\n",
       "    <tr>\n",
       "      <th>635</th>\n",
       "      <td>64</td>\n",
       "    </tr>\n",
       "  </tbody>\n",
       "</table>\n",
       "<p>1338 rows × 1 columns</p>\n",
       "</div>"
      ],
      "text/plain": [
       "      age\n",
       "1248   18\n",
       "482    18\n",
       "492    18\n",
       "525    18\n",
       "529    18\n",
       "...   ...\n",
       "398    64\n",
       "335    64\n",
       "378    64\n",
       "1265   64\n",
       "635    64\n",
       "\n",
       "[1338 rows x 1 columns]"
      ]
     },
     "execution_count": 16,
     "metadata": {},
     "output_type": "execute_result"
    }
   ],
   "source": [
    "insuranceDataAge.sort_values(by=['age'],ascending=True)"
   ]
  },
  {
   "cell_type": "code",
   "execution_count": 17,
   "id": "6fb751bb",
   "metadata": {},
   "outputs": [
    {
     "name": "stdout",
     "output_type": "stream",
     "text": [
      "Minimum age of insured:  age    18\n",
      "dtype: int64\n"
     ]
    }
   ],
   "source": [
    "print('Minimum age of insured: ',insuranceDataAge.min() )"
   ]
  },
  {
   "cell_type": "code",
   "execution_count": 18,
   "id": "50520435",
   "metadata": {},
   "outputs": [
    {
     "name": "stdout",
     "output_type": "stream",
     "text": [
      "Maximum age of insured:  age    64\n",
      "dtype: int64\n"
     ]
    }
   ],
   "source": [
    "print('Maximum age of insured: ',insuranceDataAge.max() )"
   ]
  },
  {
   "cell_type": "code",
   "execution_count": 19,
   "id": "23771405",
   "metadata": {},
   "outputs": [
    {
     "data": {
      "image/png": "[encoded data removed]",
      "text/plain": [
       "<Figure size 432x288 with 1 Axes>"
      ]
     },
     "metadata": {
      "needs_background": "light"
     },
     "output_type": "display_data"
    }
   ],
   "source": [
    "# Observe the distribution of ages in the dataset\n",
    "custom_bins = [18, 28, 38, 48,58,68]\n",
    "insuranceDataAge.plot.hist('age',  bins=custom_bins,rwidth =0.5)\n",
    "plt.show()"
   ]
  },
  {
   "cell_type": "code",
   "execution_count": 20,
   "id": "90f7a7ec",
   "metadata": {},
   "outputs": [],
   "source": [
    "insuranceDataAge=insuranceData[['age','charges']].copy()"
   ]
  },
  {
   "cell_type": "code",
   "execution_count": 21,
   "id": "b8dda23d",
   "metadata": {},
   "outputs": [],
   "source": [
    "insuranceDataPrice = insuranceData[['charges']].copy()"
   ]
  },
  {
   "cell_type": "code",
   "execution_count": 22,
   "id": "ef1790f3",
   "metadata": {},
   "outputs": [
    {
     "data": {
      "text/plain": [
       "<AxesSubplot:xlabel='age', ylabel='charges'>"
      ]
     },
     "execution_count": 22,
     "metadata": {},
     "output_type": "execute_result"
    },
    {
     "data": {
      "image/png": "[encoded data removed]",
      "text/plain": [
       "<Figure size 432x288 with 1 Axes>"
      ]
     },
     "metadata": {
      "needs_background": "light"
     },
     "output_type": "display_data"
    }
   ],
   "source": [
    "insuranceDataAge.plot('age', 'charges', kind='scatter')"
   ]
  },
  {
   "cell_type": "code",
   "execution_count": 23,
   "id": "28e2b8a1",
   "metadata": {},
   "outputs": [
    {
     "data": {
      "text/plain": [
       "<AxesSubplot:xlabel='sex', ylabel='charges'>"
      ]
     },
     "execution_count": 23,
     "metadata": {},
     "output_type": "execute_result"
    },
    {
     "data": {
      "image/png": "[encoded data removed]",
      "text/plain": [
       "<Figure size 432x288 with 1 Axes>"
      ]
     },
     "metadata": {
      "needs_background": "light"
     },
     "output_type": "display_data"
    }
   ],
   "source": [
    "insuranceDataSex=insuranceData[['sex','charges']].copy()\n",
    "insuranceDataSex.plot('sex', 'charges', kind='scatter')"
   ]
  },
  {
   "cell_type": "code",
   "execution_count": 24,
   "id": "75e3ff10",
   "metadata": {},
   "outputs": [
    {
     "data": {
      "text/plain": [
       "<AxesSubplot:xlabel='bmi', ylabel='charges'>"
      ]
     },
     "execution_count": 24,
     "metadata": {},
     "output_type": "execute_result"
    },
    {
     "data": {
      "image/png": "[encoded data removed]",
      "text/plain": [
       "<Figure size 432x288 with 1 Axes>"
      ]
     },
     "metadata": {
      "needs_background": "light"
     },
     "output_type": "display_data"
    }
   ],
   "source": [
    "insuranceDataBMI=insuranceData[['bmi','charges']].copy()\n",
    "insuranceDataBMI.plot('bmi', 'charges', kind='scatter')"
   ]
  },
  {
   "cell_type": "code",
   "execution_count": 25,
   "id": "9f5e9cb0",
   "metadata": {},
   "outputs": [
    {
     "data": {
      "text/plain": [
       "<AxesSubplot:xlabel='children', ylabel='charges'>"
      ]
     },
     "execution_count": 25,
     "metadata": {},
     "output_type": "execute_result"
    },
    {
     "data": {
      "image/png": "[encoded data removed]",
      "text/plain": [
       "<Figure size 432x288 with 1 Axes>"
      ]
     },
     "metadata": {
      "needs_background": "light"
     },
     "output_type": "display_data"
    }
   ],
   "source": [
    "insuranceDataChildren=insuranceData[['children','charges']].copy()\n",
    "insuranceDataChildren.plot('children', 'charges', kind='scatter')"
   ]
  },
  {
   "cell_type": "code",
   "execution_count": 26,
   "id": "5991144b",
   "metadata": {},
   "outputs": [
    {
     "data": {
      "text/plain": [
       "<AxesSubplot:xlabel='smoker', ylabel='charges'>"
      ]
     },
     "execution_count": 26,
     "metadata": {},
     "output_type": "execute_result"
    },
    {
     "data": {
      "image/png": "[encoded data removed]",
      "text/plain": [
       "<Figure size 432x288 with 1 Axes>"
      ]
     },
     "metadata": {
      "needs_background": "light"
     },
     "output_type": "display_data"
    }
   ],
   "source": [
    "insuranceDataSmoker=insuranceData[['smoker','charges']].copy()\n",
    "insuranceDataSmoker.plot('smoker', 'charges', kind='scatter')"
   ]
  },
  {
   "cell_type": "code",
   "execution_count": 27,
   "id": "da159e22",
   "metadata": {},
   "outputs": [
    {
     "data": {
      "text/plain": [
       "<AxesSubplot:xlabel='region', ylabel='charges'>"
      ]
     },
     "execution_count": 27,
     "metadata": {},
     "output_type": "execute_result"
    },
    {
     "data": {
      "image/png": "[encoded data removed]",
      "text/plain": [
       "<Figure size 432x288 with 1 Axes>"
      ]
     },
     "metadata": {
      "needs_background": "light"
     },
     "output_type": "display_data"
    }
   ],
   "source": [
    "insuranceDataRegion=insuranceData[['region','charges']].copy()\n",
    "insuranceDataRegion.plot('region', 'charges', kind='scatter')"
   ]
  },
  {
   "cell_type": "code",
   "execution_count": 28,
   "id": "9c262f14",
   "metadata": {},
   "outputs": [
    {
     "data": {
      "text/plain": [
       "<AxesSubplot:xlabel='region', ylabel='smoker'>"
      ]
     },
     "execution_count": 28,
     "metadata": {},
     "output_type": "execute_result"
    },
    {
     "data": {
      "image/png": "[encoded data removed]",
      "text/plain": [
       "<Figure size 432x288 with 1 Axes>"
      ]
     },
     "metadata": {
      "needs_background": "light"
     },
     "output_type": "display_data"
    }
   ],
   "source": [
    "insuranceDataRegionSmoker=insuranceData[['smoker','region']].copy()\n",
    "insuranceDataRegionSmoker.plot('region', 'smoker', kind='scatter')"
   ]
  },
  {
   "cell_type": "code",
   "execution_count": 29,
   "id": "da9e0207",
   "metadata": {},
   "outputs": [
    {
     "data": {
      "text/plain": [
       "1338"
      ]
     },
     "execution_count": 29,
     "metadata": {},
     "output_type": "execute_result"
    }
   ],
   "source": [
    "len(insuranceDataRegionSmoker)"
   ]
  },
  {
   "cell_type": "code",
   "execution_count": 137,
   "id": "7304df55",
   "metadata": {},
   "outputs": [],
   "source": [
    "train_dataset = insuranceData.sample(frac=0.85, random_state=1)\n",
    "test_dataset = insuranceData.drop(train_dataset.index)"
   ]
  },
  {
   "cell_type": "code",
   "execution_count": 138,
   "id": "c2992f6b",
   "metadata": {},
   "outputs": [
    {
     "data": {
      "text/plain": [
       "1137"
      ]
     },
     "execution_count": 138,
     "metadata": {},
     "output_type": "execute_result"
    }
   ],
   "source": [
    "len(train_dataset)"
   ]
  },
  {
   "cell_type": "code",
   "execution_count": 139,
   "id": "0b03afab",
   "metadata": {},
   "outputs": [
    {
     "data": {
      "text/plain": [
       "201"
      ]
     },
     "execution_count": 139,
     "metadata": {},
     "output_type": "execute_result"
    }
   ],
   "source": [
    "len(test_dataset)"
   ]
  },
  {
   "cell_type": "code",
   "execution_count": 70,
   "id": "5f030d50",
   "metadata": {},
   "outputs": [
    {
     "name": "stdout",
     "output_type": "stream",
     "text": [
      "Collecting pandas_profiling\n",
      "  Downloading pandas_profiling-3.0.0-py2.py3-none-any.whl (248 kB)\n",
      "Collecting pydantic>=1.8.1\n",
      "  Downloading pydantic-1.8.2-cp38-cp38-win_amd64.whl (2.0 MB)\n",
      "Collecting phik>=0.11.1\n",
      "  Downloading phik-0.11.2.tar.gz (1.1 MB)\n",
      "Collecting visions[type_image_path]==0.7.1\n",
      "  Downloading visions-0.7.1-py3-none-any.whl (102 kB)\n",
      "Collecting missingno>=0.4.2\n",
      "  Downloading missingno-0.5.0-py3-none-any.whl (8.8 kB)\n",
      "Requirement already satisfied: tqdm>=4.48.2 in c:\\users\\amshuman\\anaconda3\\lib\\site-packages (from pandas_profiling) (4.50.2)\n",
      "Requirement already satisfied: pandas!=1.0.0,!=1.0.1,!=1.0.2,!=1.1.0,>=0.25.3 in c:\\users\\amshuman\\anaconda3\\lib\\site-packages (from pandas_profiling) (1.1.3)\n",
      "Requirement already satisfied: PyYAML>=5.0.0 in c:\\users\\amshuman\\anaconda3\\lib\\site-packages (from pandas_profiling) (5.3.1)\n",
      "Collecting htmlmin>=0.1.12\n",
      "  Downloading htmlmin-0.1.12.tar.gz (19 kB)\n",
      "Requirement already satisfied: scipy>=1.4.1 in c:\\users\\amshuman\\anaconda3\\lib\\site-packages (from pandas_profiling) (1.5.2)\n",
      "Requirement already satisfied: requests>=2.24.0 in c:\\users\\amshuman\\anaconda3\\lib\\site-packages (from pandas_profiling) (2.24.0)\n",
      "Requirement already satisfied: numpy>=1.16.0 in c:\\users\\amshuman\\anaconda3\\lib\\site-packages (from pandas_profiling) (1.19.2)\n",
      "Requirement already satisfied: seaborn>=0.10.1 in c:\\users\\amshuman\\anaconda3\\lib\\site-packages (from pandas_profiling) (0.11.0)\n",
      "Requirement already satisfied: jinja2>=2.11.1 in c:\\users\\amshuman\\anaconda3\\lib\\site-packages (from pandas_profiling) (2.11.2)\n",
      "Requirement already satisfied: matplotlib>=3.2.0 in c:\\users\\amshuman\\anaconda3\\lib\\site-packages (from pandas_profiling) (3.3.2)\n",
      "Collecting tangled-up-in-unicode==0.1.0\n",
      "  Downloading tangled_up_in_unicode-0.1.0-py3-none-any.whl (3.1 MB)\n",
      "Requirement already satisfied: joblib in c:\\users\\amshuman\\anaconda3\\lib\\site-packages (from pandas_profiling) (0.17.0)\n",
      "Requirement already satisfied: typing-extensions>=3.7.4.3 in c:\\users\\amshuman\\anaconda3\\lib\\site-packages (from pydantic>=1.8.1->pandas_profiling) (3.7.4.3)\n",
      "Requirement already satisfied: bottleneck in c:\\users\\amshuman\\anaconda3\\lib\\site-packages (from visions[type_image_path]==0.7.1->pandas_profiling) (1.3.2)\n",
      "Collecting multimethod==1.4\n",
      "  Downloading multimethod-1.4-py2.py3-none-any.whl (7.3 kB)\n",
      "Requirement already satisfied: networkx>=2.4 in c:\\users\\amshuman\\anaconda3\\lib\\site-packages (from visions[type_image_path]==0.7.1->pandas_profiling) (2.5)\n",
      "Requirement already satisfied: attrs>=19.3.0 in c:\\users\\amshuman\\anaconda3\\lib\\site-packages (from visions[type_image_path]==0.7.1->pandas_profiling) (20.3.0)\n",
      "Collecting imagehash; extra == \"type_image_path\"\n",
      "  Downloading ImageHash-4.2.1.tar.gz (812 kB)\n",
      "Requirement already satisfied: Pillow; extra == \"type_image_path\" in c:\\users\\amshuman\\anaconda3\\lib\\site-packages (from visions[type_image_path]==0.7.1->pandas_profiling) (8.0.1)\n",
      "Requirement already satisfied: python-dateutil>=2.7.3 in c:\\users\\amshuman\\anaconda3\\lib\\site-packages (from pandas!=1.0.0,!=1.0.1,!=1.0.2,!=1.1.0,>=0.25.3->pandas_profiling) (2.8.1)\n",
      "Requirement already satisfied: pytz>=2017.2 in c:\\users\\amshuman\\anaconda3\\lib\\site-packages (from pandas!=1.0.0,!=1.0.1,!=1.0.2,!=1.1.0,>=0.25.3->pandas_profiling) (2020.1)\n",
      "Requirement already satisfied: certifi>=2017.4.17 in c:\\users\\amshuman\\anaconda3\\lib\\site-packages (from requests>=2.24.0->pandas_profiling) (2020.6.20)\n",
      "Requirement already satisfied: chardet<4,>=3.0.2 in c:\\users\\amshuman\\anaconda3\\lib\\site-packages (from requests>=2.24.0->pandas_profiling) (3.0.4)\n",
      "Requirement already satisfied: idna<3,>=2.5 in c:\\users\\amshuman\\anaconda3\\lib\\site-packages (from requests>=2.24.0->pandas_profiling) (2.10)\n",
      "Requirement already satisfied: urllib3!=1.25.0,!=1.25.1,<1.26,>=1.21.1 in c:\\users\\amshuman\\anaconda3\\lib\\site-packages (from requests>=2.24.0->pandas_profiling) (1.25.11)\n",
      "Requirement already satisfied: MarkupSafe>=0.23 in c:\\users\\amshuman\\anaconda3\\lib\\site-packages (from jinja2>=2.11.1->pandas_profiling) (1.1.1)\n",
      "Requirement already satisfied: cycler>=0.10 in c:\\users\\amshuman\\anaconda3\\lib\\site-packages (from matplotlib>=3.2.0->pandas_profiling) (0.10.0)\n",
      "Requirement already satisfied: pyparsing!=2.0.4,!=2.1.2,!=2.1.6,>=2.0.3 in c:\\users\\amshuman\\anaconda3\\lib\\site-packages (from matplotlib>=3.2.0->pandas_profiling) (2.4.7)\n",
      "Requirement already satisfied: kiwisolver>=1.0.1 in c:\\users\\amshuman\\anaconda3\\lib\\site-packages (from matplotlib>=3.2.0->pandas_profiling) (1.3.0)\n",
      "Requirement already satisfied: decorator>=4.3.0 in c:\\users\\amshuman\\anaconda3\\lib\\site-packages (from networkx>=2.4->visions[type_image_path]==0.7.1->pandas_profiling) (4.4.2)\n",
      "Requirement already satisfied: six in c:\\users\\amshuman\\anaconda3\\lib\\site-packages (from imagehash; extra == \"type_image_path\"->visions[type_image_path]==0.7.1->pandas_profiling) (1.15.0)\n",
      "Requirement already satisfied: PyWavelets in c:\\users\\amshuman\\anaconda3\\lib\\site-packages (from imagehash; extra == \"type_image_path\"->visions[type_image_path]==0.7.1->pandas_profiling) (1.1.1)\n",
      "Building wheels for collected packages: phik, htmlmin, imagehash\n",
      "  Building wheel for phik (setup.py): started\n",
      "  Building wheel for phik (setup.py): finished with status 'done'\n",
      "  Created wheel for phik: filename=phik-0.11.2-py3-none-any.whl size=1107420 sha256=7e88a275f772d6ed7cfdbc74e9d29db5121f994643968013b021c462c356d844\n",
      "  Stored in directory: c:\\users\\amshuman\\appdata\\local\\pip\\cache\\wheels\\72\\9a\\23\\097c93fd8341220d92674891b6a9a30f0e389719d9b7291bd2\n",
      "  Building wheel for htmlmin (setup.py): started\n",
      "  Building wheel for htmlmin (setup.py): finished with status 'done'\n",
      "  Created wheel for htmlmin: filename=htmlmin-0.1.12-py3-none-any.whl size=27091 sha256=6d6bea2a8adaf3c1ee104cec8079f630af50b62922c373b0a7a42601d66b6195\n",
      "  Stored in directory: c:\\users\\amshuman\\appdata\\local\\pip\\cache\\wheels\\23\\14\\6e\\4be5bfeeb027f4939a01764b48edd5996acf574b0913fe5243\n",
      "  Building wheel for imagehash (setup.py): started\n",
      "  Building wheel for imagehash (setup.py): finished with status 'done'\n",
      "  Created wheel for imagehash: filename=ImageHash-4.2.1-py2.py3-none-any.whl size=295204 sha256=508bcbb84b1cb5b0e6e793caa3e4b9e5a6ef00d0edd4469b463409ca9ea3bdd6\n",
      "  Stored in directory: c:\\users\\amshuman\\appdata\\local\\pip\\cache\\wheels\\48\\a1\\7f\\096c1269d6bf78d4768180602579b35a1e8cb1250bb4b40c74\n",
      "Successfully built phik htmlmin imagehash\n",
      "Installing collected packages: pydantic, phik, multimethod, tangled-up-in-unicode, imagehash, visions, missingno, htmlmin, pandas-profiling\n",
      "Successfully installed htmlmin-0.1.12 imagehash-4.2.1 missingno-0.5.0 multimethod-1.4 pandas-profiling-3.0.0 phik-0.11.2 pydantic-1.8.2 tangled-up-in-unicode-0.1.0 visions-0.7.1\n"
     ]
    }
   ],
   "source": [
    "!pip install pandas_profiling"
   ]
  },
  {
   "cell_type": "code",
   "execution_count": 71,
   "id": "3346d7f7",
   "metadata": {},
   "outputs": [
    {
     "data": {
      "application/vnd.jupyter.widget-view+json": {
       "model_id": "1db559a86c1344ada1fe9b193e975929",
       "version_major": 2,
       "version_minor": 0
      },
      "text/plain": [
       "HBox(children=(HTML(value='Summarize dataset'), FloatProgress(value=0.0, max=20.0), HTML(value='')))"
      ]
     },
     "metadata": {},
     "output_type": "display_data"
    },
    {
     "name": "stdout",
     "output_type": "stream",
     "text": [
      "\n"
     ]
    },
    {
     "data": {
      "application/vnd.jupyter.widget-view+json": {
       "model_id": "e6662b7b1036465fa83b9c95bf7550e2",
       "version_major": 2,
       "version_minor": 0
      },
      "text/plain": [
       "HBox(children=(HTML(value='Generate report structure'), FloatProgress(value=0.0, max=1.0), HTML(value='')))"
      ]
     },
     "metadata": {},
     "output_type": "display_data"
    },
    {
     "name": "stdout",
     "output_type": "stream",
     "text": [
      "\n"
     ]
    },
    {
     "data": {
      "application/vnd.jupyter.widget-view+json": {
       "model_id": "55bea63fc22b4073b268552169bdfc4d",
       "version_major": 2,
       "version_minor": 0
      },
      "text/plain": [
       "HBox(children=(HTML(value='Render HTML'), FloatProgress(value=0.0, max=1.0), HTML(value='')))"
      ]
     },
     "metadata": {},
     "output_type": "display_data"
    },
    {
     "name": "stdout",
     "output_type": "stream",
     "text": [
      "\n"
     ]
    },
    {
     "data": {
      "application/vnd.jupyter.widget-view+json": {
       "model_id": "97e1c1febae745919fdce76d3df6d29b",
       "version_major": 2,
       "version_minor": 0
      },
      "text/plain": [
       "HBox(children=(HTML(value='Export report to file'), FloatProgress(value=0.0, max=1.0), HTML(value='')))"
      ]
     },
     "metadata": {},
     "output_type": "display_data"
    },
    {
     "name": "stdout",
     "output_type": "stream",
     "text": [
      "\n"
     ]
    }
   ],
   "source": [
    "from pandas_profiling import ProfileReport\n",
    "prof = ProfileReport(insuranceData)\n",
    "prof.to_file(output_file='output.html')"
   ]
  },
  {
   "cell_type": "code",
   "execution_count": 33,
   "id": "fe5a2b58",
   "metadata": {},
   "outputs": [],
   "source": [
    "import statsmodels.api as sm\n",
    "import numpy as np"
   ]
  },
  {
   "cell_type": "code",
   "execution_count": 140,
   "id": "cfdd6f34",
   "metadata": {},
   "outputs": [
    {
     "data": {
      "text/plain": [
       "pandas.core.frame.DataFrame"
      ]
     },
     "execution_count": 140,
     "metadata": {},
     "output_type": "execute_result"
    }
   ],
   "source": [
    "train_dataset_Y = train_dataset['charges'].copy()\n",
    "train_dataset_X = train_dataset.drop('charges',axis=1)\n",
    "type(train_dataset_X)\n",
    "\n"
   ]
  },
  {
   "cell_type": "code",
   "execution_count": 141,
   "id": "58a2bbf0",
   "metadata": {},
   "outputs": [],
   "source": [
    "from sklearn.linear_model import LinearRegression"
   ]
  },
  {
   "cell_type": "code",
   "execution_count": 142,
   "id": "5a36601a",
   "metadata": {},
   "outputs": [],
   "source": [
    "lm = LinearRegression()"
   ]
  },
  {
   "cell_type": "code",
   "execution_count": 143,
   "id": "815ce17b",
   "metadata": {},
   "outputs": [
    {
     "data": {
      "text/html": [
       "<div>\n",
       "<style scoped>\n",
       "    .dataframe tbody tr th:only-of-type {\n",
       "        vertical-align: middle;\n",
       "    }\n",
       "\n",
       "    .dataframe tbody tr th {\n",
       "        vertical-align: top;\n",
       "    }\n",
       "\n",
       "    .dataframe thead th {\n",
       "        text-align: right;\n",
       "    }\n",
       "</style>\n",
       "<table border=\"1\" class=\"dataframe\">\n",
       "  <thead>\n",
       "    <tr style=\"text-align: right;\">\n",
       "      <th></th>\n",
       "      <th>age</th>\n",
       "      <th>sex</th>\n",
       "      <th>bmi</th>\n",
       "      <th>children</th>\n",
       "      <th>smoker</th>\n",
       "      <th>region</th>\n",
       "    </tr>\n",
       "  </thead>\n",
       "  <tbody>\n",
       "    <tr>\n",
       "      <th>559</th>\n",
       "      <td>19</td>\n",
       "      <td>male</td>\n",
       "      <td>35.53</td>\n",
       "      <td>0</td>\n",
       "      <td>no</td>\n",
       "      <td>northwest</td>\n",
       "    </tr>\n",
       "    <tr>\n",
       "      <th>1087</th>\n",
       "      <td>57</td>\n",
       "      <td>male</td>\n",
       "      <td>31.54</td>\n",
       "      <td>0</td>\n",
       "      <td>no</td>\n",
       "      <td>northwest</td>\n",
       "    </tr>\n",
       "    <tr>\n",
       "      <th>1020</th>\n",
       "      <td>51</td>\n",
       "      <td>male</td>\n",
       "      <td>37.00</td>\n",
       "      <td>0</td>\n",
       "      <td>no</td>\n",
       "      <td>southwest</td>\n",
       "    </tr>\n",
       "    <tr>\n",
       "      <th>460</th>\n",
       "      <td>49</td>\n",
       "      <td>female</td>\n",
       "      <td>36.63</td>\n",
       "      <td>3</td>\n",
       "      <td>no</td>\n",
       "      <td>southeast</td>\n",
       "    </tr>\n",
       "    <tr>\n",
       "      <th>802</th>\n",
       "      <td>21</td>\n",
       "      <td>male</td>\n",
       "      <td>22.30</td>\n",
       "      <td>1</td>\n",
       "      <td>no</td>\n",
       "      <td>southwest</td>\n",
       "    </tr>\n",
       "  </tbody>\n",
       "</table>\n",
       "</div>"
      ],
      "text/plain": [
       "      age     sex    bmi  children smoker     region\n",
       "559    19    male  35.53         0     no  northwest\n",
       "1087   57    male  31.54         0     no  northwest\n",
       "1020   51    male  37.00         0     no  southwest\n",
       "460    49  female  36.63         3     no  southeast\n",
       "802    21    male  22.30         1     no  southwest"
      ]
     },
     "execution_count": 143,
     "metadata": {},
     "output_type": "execute_result"
    }
   ],
   "source": [
    "train_dataset_X.head()"
   ]
  },
  {
   "cell_type": "code",
   "execution_count": 144,
   "id": "b5d94b11",
   "metadata": {},
   "outputs": [],
   "source": [
    "train_dataset_X[\"region\"].replace({\"southwest\": 1.0, \"southeast\": 2.0,\"northwest\": 3.0, \"northeast\": 4.0}, inplace=True)"
   ]
  },
  {
   "cell_type": "code",
   "execution_count": 145,
   "id": "67e48512",
   "metadata": {},
   "outputs": [],
   "source": [
    "train_dataset_X[\"smoker\"].replace({\"no\": 0.0, \"yes\": 1.0}, inplace=True)"
   ]
  },
  {
   "cell_type": "code",
   "execution_count": 146,
   "id": "98b584d0",
   "metadata": {},
   "outputs": [],
   "source": [
    "train_dataset_X[\"sex\"].replace({\"male\": 1.0, \"female\": 0}, inplace=True)"
   ]
  },
  {
   "cell_type": "code",
   "execution_count": 147,
   "id": "4c8c86b9",
   "metadata": {},
   "outputs": [
    {
     "data": {
      "text/html": [
       "<div>\n",
       "<style scoped>\n",
       "    .dataframe tbody tr th:only-of-type {\n",
       "        vertical-align: middle;\n",
       "    }\n",
       "\n",
       "    .dataframe tbody tr th {\n",
       "        vertical-align: top;\n",
       "    }\n",
       "\n",
       "    .dataframe thead th {\n",
       "        text-align: right;\n",
       "    }\n",
       "</style>\n",
       "<table border=\"1\" class=\"dataframe\">\n",
       "  <thead>\n",
       "    <tr style=\"text-align: right;\">\n",
       "      <th></th>\n",
       "      <th>age</th>\n",
       "      <th>sex</th>\n",
       "      <th>bmi</th>\n",
       "      <th>children</th>\n",
       "      <th>smoker</th>\n",
       "      <th>region</th>\n",
       "    </tr>\n",
       "  </thead>\n",
       "  <tbody>\n",
       "    <tr>\n",
       "      <th>559</th>\n",
       "      <td>19</td>\n",
       "      <td>1.0</td>\n",
       "      <td>35.53</td>\n",
       "      <td>0</td>\n",
       "      <td>0.0</td>\n",
       "      <td>3.0</td>\n",
       "    </tr>\n",
       "    <tr>\n",
       "      <th>1087</th>\n",
       "      <td>57</td>\n",
       "      <td>1.0</td>\n",
       "      <td>31.54</td>\n",
       "      <td>0</td>\n",
       "      <td>0.0</td>\n",
       "      <td>3.0</td>\n",
       "    </tr>\n",
       "    <tr>\n",
       "      <th>1020</th>\n",
       "      <td>51</td>\n",
       "      <td>1.0</td>\n",
       "      <td>37.00</td>\n",
       "      <td>0</td>\n",
       "      <td>0.0</td>\n",
       "      <td>1.0</td>\n",
       "    </tr>\n",
       "    <tr>\n",
       "      <th>460</th>\n",
       "      <td>49</td>\n",
       "      <td>0.0</td>\n",
       "      <td>36.63</td>\n",
       "      <td>3</td>\n",
       "      <td>0.0</td>\n",
       "      <td>2.0</td>\n",
       "    </tr>\n",
       "    <tr>\n",
       "      <th>802</th>\n",
       "      <td>21</td>\n",
       "      <td>1.0</td>\n",
       "      <td>22.30</td>\n",
       "      <td>1</td>\n",
       "      <td>0.0</td>\n",
       "      <td>1.0</td>\n",
       "    </tr>\n",
       "  </tbody>\n",
       "</table>\n",
       "</div>"
      ],
      "text/plain": [
       "      age  sex    bmi  children  smoker  region\n",
       "559    19  1.0  35.53         0     0.0     3.0\n",
       "1087   57  1.0  31.54         0     0.0     3.0\n",
       "1020   51  1.0  37.00         0     0.0     1.0\n",
       "460    49  0.0  36.63         3     0.0     2.0\n",
       "802    21  1.0  22.30         1     0.0     1.0"
      ]
     },
     "execution_count": 147,
     "metadata": {},
     "output_type": "execute_result"
    }
   ],
   "source": [
    "train_dataset_X.head()\n"
   ]
  },
  {
   "cell_type": "code",
   "execution_count": 148,
   "id": "1b949422",
   "metadata": {},
   "outputs": [
    {
     "data": {
      "text/plain": [
       "LinearRegression()"
      ]
     },
     "execution_count": 148,
     "metadata": {},
     "output_type": "execute_result"
    }
   ],
   "source": [
    "lm.fit(train_dataset_X, train_dataset_Y)"
   ]
  },
  {
   "cell_type": "code",
   "execution_count": 149,
   "id": "4c90e575",
   "metadata": {},
   "outputs": [
    {
     "name": "stdout",
     "output_type": "stream",
     "text": [
      "Estimated intercept coefficient: -13649.657125296726\n"
     ]
    }
   ],
   "source": [
    "print('Estimated intercept coefficient: {}'.format(lm.intercept_))"
   ]
  },
  {
   "cell_type": "code",
   "execution_count": 150,
   "id": "110a27a4",
   "metadata": {},
   "outputs": [
    {
     "data": {
      "text/plain": [
       "pandas.core.frame.DataFrame"
      ]
     },
     "execution_count": 150,
     "metadata": {},
     "output_type": "execute_result"
    }
   ],
   "source": [
    "test_dataset_Y = test_dataset['charges'].copy()\n",
    "test_dataset_X = test_dataset.drop('charges',axis=1)\n",
    "type(test_dataset_X)\n",
    "\n"
   ]
  },
  {
   "cell_type": "code",
   "execution_count": 151,
   "id": "713ac6e7",
   "metadata": {},
   "outputs": [],
   "source": [
    "test_dataset_X[\"sex\"].replace({\"male\": 1.0, \"female\": 0}, inplace=True)\n",
    "test_dataset_X[\"region\"].replace({\"southwest\": 1.0, \"southeast\": 2.0,\"northwest\": 3.0, \"northeast\": 4.0}, inplace=True)\n",
    "test_dataset_X[\"smoker\"].replace({\"no\": 0.0, \"yes\": 1.0}, inplace=True)"
   ]
  },
  {
   "cell_type": "code",
   "execution_count": 152,
   "id": "1ef7f768",
   "metadata": {},
   "outputs": [
    {
     "data": {
      "text/html": [
       "<div>\n",
       "<style scoped>\n",
       "    .dataframe tbody tr th:only-of-type {\n",
       "        vertical-align: middle;\n",
       "    }\n",
       "\n",
       "    .dataframe tbody tr th {\n",
       "        vertical-align: top;\n",
       "    }\n",
       "\n",
       "    .dataframe thead th {\n",
       "        text-align: right;\n",
       "    }\n",
       "</style>\n",
       "<table border=\"1\" class=\"dataframe\">\n",
       "  <thead>\n",
       "    <tr style=\"text-align: right;\">\n",
       "      <th></th>\n",
       "      <th>age</th>\n",
       "      <th>sex</th>\n",
       "      <th>bmi</th>\n",
       "      <th>children</th>\n",
       "      <th>smoker</th>\n",
       "      <th>region</th>\n",
       "    </tr>\n",
       "  </thead>\n",
       "  <tbody>\n",
       "    <tr>\n",
       "      <th>15</th>\n",
       "      <td>19</td>\n",
       "      <td>1.0</td>\n",
       "      <td>24.600</td>\n",
       "      <td>1</td>\n",
       "      <td>0.0</td>\n",
       "      <td>1.0</td>\n",
       "    </tr>\n",
       "    <tr>\n",
       "      <th>20</th>\n",
       "      <td>60</td>\n",
       "      <td>0.0</td>\n",
       "      <td>36.005</td>\n",
       "      <td>0</td>\n",
       "      <td>0.0</td>\n",
       "      <td>4.0</td>\n",
       "    </tr>\n",
       "    <tr>\n",
       "      <th>21</th>\n",
       "      <td>30</td>\n",
       "      <td>0.0</td>\n",
       "      <td>32.400</td>\n",
       "      <td>1</td>\n",
       "      <td>0.0</td>\n",
       "      <td>1.0</td>\n",
       "    </tr>\n",
       "    <tr>\n",
       "      <th>24</th>\n",
       "      <td>37</td>\n",
       "      <td>1.0</td>\n",
       "      <td>28.025</td>\n",
       "      <td>2</td>\n",
       "      <td>0.0</td>\n",
       "      <td>3.0</td>\n",
       "    </tr>\n",
       "    <tr>\n",
       "      <th>25</th>\n",
       "      <td>59</td>\n",
       "      <td>0.0</td>\n",
       "      <td>27.720</td>\n",
       "      <td>3</td>\n",
       "      <td>0.0</td>\n",
       "      <td>2.0</td>\n",
       "    </tr>\n",
       "  </tbody>\n",
       "</table>\n",
       "</div>"
      ],
      "text/plain": [
       "    age  sex     bmi  children  smoker  region\n",
       "15   19  1.0  24.600         1     0.0     1.0\n",
       "20   60  0.0  36.005         0     0.0     4.0\n",
       "21   30  0.0  32.400         1     0.0     1.0\n",
       "24   37  1.0  28.025         2     0.0     3.0\n",
       "25   59  0.0  27.720         3     0.0     2.0"
      ]
     },
     "execution_count": 152,
     "metadata": {},
     "output_type": "execute_result"
    }
   ],
   "source": [
    "test_dataset_X.head()"
   ]
  },
  {
   "cell_type": "code",
   "execution_count": 153,
   "id": "540b4541",
   "metadata": {},
   "outputs": [],
   "source": [
    "# first five predicted prices\n",
    "y_pred = lm.predict(test_dataset_X)"
   ]
  },
  {
   "cell_type": "code",
   "execution_count": 154,
   "id": "34c3ae16",
   "metadata": {},
   "outputs": [
    {
     "data": {
      "text/plain": [
       "201"
      ]
     },
     "execution_count": 154,
     "metadata": {},
     "output_type": "execute_result"
    }
   ],
   "source": [
    "len(y_pred)"
   ]
  },
  {
   "cell_type": "code",
   "execution_count": 155,
   "id": "f0de6987",
   "metadata": {},
   "outputs": [
    {
     "data": {
      "text/plain": [
       "201"
      ]
     },
     "execution_count": 155,
     "metadata": {},
     "output_type": "execute_result"
    }
   ],
   "source": [
    "len(test_dataset_Y)"
   ]
  },
  {
   "cell_type": "code",
   "execution_count": null,
   "id": "10c96cf0",
   "metadata": {},
   "outputs": [],
   "source": []
  },
  {
   "cell_type": "code",
   "execution_count": 156,
   "id": "f41ac14a",
   "metadata": {},
   "outputs": [],
   "source": [
    "from sklearn.metrics import mean_absolute_error"
   ]
  },
  {
   "cell_type": "code",
   "execution_count": 157,
   "id": "10b97ead",
   "metadata": {},
   "outputs": [
    {
     "data": {
      "text/plain": [
       "4012.588698082743"
      ]
     },
     "execution_count": 157,
     "metadata": {},
     "output_type": "execute_result"
    }
   ],
   "source": [
    "mean_absolute_error(test_dataset_Y, y_pred)"
   ]
  },
  {
   "cell_type": "code",
   "execution_count": 158,
   "id": "9a7da4e4",
   "metadata": {},
   "outputs": [],
   "source": [
    "from sklearn import linear_model"
   ]
  },
  {
   "cell_type": "code",
   "execution_count": 159,
   "id": "9e6ec631",
   "metadata": {},
   "outputs": [],
   "source": [
    "regRidge = linear_model.Ridge(alpha=.5)"
   ]
  },
  {
   "cell_type": "code",
   "execution_count": 160,
   "id": "955e3de0",
   "metadata": {},
   "outputs": [
    {
     "data": {
      "text/plain": [
       "Ridge(alpha=0.5)"
      ]
     },
     "execution_count": 160,
     "metadata": {},
     "output_type": "execute_result"
    }
   ],
   "source": [
    "regRidge.fit(train_dataset_X, train_dataset_Y)"
   ]
  },
  {
   "cell_type": "code",
   "execution_count": 161,
   "id": "c0254040",
   "metadata": {},
   "outputs": [
    {
     "data": {
      "text/plain": [
       "array([  256.96237706,  -118.22889832,   349.6386705 ,   434.0564615 ,\n",
       "       23240.54073066,   374.35965922])"
      ]
     },
     "execution_count": 161,
     "metadata": {},
     "output_type": "execute_result"
    }
   ],
   "source": [
    "regRidge.coef_"
   ]
  },
  {
   "cell_type": "code",
   "execution_count": 162,
   "id": "48b6d193",
   "metadata": {},
   "outputs": [
    {
     "data": {
      "text/plain": [
       "-13634.460408584404"
      ]
     },
     "execution_count": 162,
     "metadata": {},
     "output_type": "execute_result"
    }
   ],
   "source": [
    "regRidge.intercept_"
   ]
  },
  {
   "cell_type": "code",
   "execution_count": 163,
   "id": "eb6fd558",
   "metadata": {},
   "outputs": [],
   "source": [
    "y_pred_ridge = regRidge.predict(test_dataset_X)"
   ]
  },
  {
   "cell_type": "code",
   "execution_count": 164,
   "id": "0ab6c932",
   "metadata": {},
   "outputs": [
    {
     "data": {
      "text/plain": [
       "4020.8017086102973"
      ]
     },
     "execution_count": 164,
     "metadata": {},
     "output_type": "execute_result"
    }
   ],
   "source": [
    "mean_absolute_error(test_dataset_Y, y_pred_ridge)"
   ]
  },
  {
   "cell_type": "code",
   "execution_count": 165,
   "id": "7a36e87b",
   "metadata": {},
   "outputs": [],
   "source": [
    "regLasso = linear_model.Lasso(alpha=0.1)"
   ]
  },
  {
   "cell_type": "code",
   "execution_count": 166,
   "id": "27813485",
   "metadata": {},
   "outputs": [
    {
     "data": {
      "text/plain": [
       "Lasso(alpha=0.1)"
      ]
     },
     "execution_count": 166,
     "metadata": {},
     "output_type": "execute_result"
    }
   ],
   "source": [
    "regLasso.fit(train_dataset_X, train_dataset_Y)"
   ]
  },
  {
   "cell_type": "code",
   "execution_count": 167,
   "id": "405ac5a4",
   "metadata": {},
   "outputs": [
    {
     "data": {
      "text/plain": [
       "array([  257.06520227,  -121.593775  ,   349.65213486,   433.84485754,\n",
       "       23302.60213774,   374.08267732])"
      ]
     },
     "execution_count": 167,
     "metadata": {},
     "output_type": "execute_result"
    }
   ],
   "source": [
    "regLasso.coef_"
   ]
  },
  {
   "cell_type": "code",
   "execution_count": 168,
   "id": "83c0cec4",
   "metadata": {},
   "outputs": [
    {
     "data": {
      "text/plain": [
       "-13649.246603497464"
      ]
     },
     "execution_count": 168,
     "metadata": {},
     "output_type": "execute_result"
    }
   ],
   "source": [
    "regLasso.intercept_"
   ]
  },
  {
   "cell_type": "code",
   "execution_count": 169,
   "id": "f6f3ae79",
   "metadata": {},
   "outputs": [],
   "source": [
    "y_pred_Lasso = regLasso.predict(test_dataset_X)"
   ]
  },
  {
   "cell_type": "code",
   "execution_count": 170,
   "id": "c5ddbe9c",
   "metadata": {},
   "outputs": [
    {
     "data": {
      "text/plain": [
       "4020.8017086102973"
      ]
     },
     "execution_count": 170,
     "metadata": {},
     "output_type": "execute_result"
    }
   ],
   "source": [
    "mean_absolute_error(test_dataset_Y, y_pred_ridge)"
   ]
  },
  {
   "cell_type": "code",
   "execution_count": 171,
   "id": "94ac9bd2",
   "metadata": {},
   "outputs": [],
   "source": [
    "from sklearn.linear_model import SGDRegressor\n",
    "from sklearn.pipeline import make_pipeline\n",
    "from sklearn.preprocessing import StandardScaler"
   ]
  },
  {
   "cell_type": "code",
   "execution_count": 172,
   "id": "70251c7f",
   "metadata": {},
   "outputs": [],
   "source": [
    "regSGD = make_pipeline(StandardScaler(), SGDRegressor(max_iter=1000, tol=1e-3))"
   ]
  },
  {
   "cell_type": "code",
   "execution_count": 173,
   "id": "fb19394c",
   "metadata": {},
   "outputs": [
    {
     "data": {
      "text/plain": [
       "Pipeline(steps=[('standardscaler', StandardScaler()),\n",
       "                ('sgdregressor', SGDRegressor())])"
      ]
     },
     "execution_count": 173,
     "metadata": {},
     "output_type": "execute_result"
    }
   ],
   "source": [
    "regSGD.fit(train_dataset_X, train_dataset_Y)"
   ]
  },
  {
   "cell_type": "code",
   "execution_count": 174,
   "id": "d7a59001",
   "metadata": {},
   "outputs": [],
   "source": [
    "y_pred_SGD = regSGD.predict(test_dataset_X)"
   ]
  },
  {
   "cell_type": "code",
   "execution_count": 175,
   "id": "e7059b60",
   "metadata": {},
   "outputs": [
    {
     "data": {
      "text/plain": [
       "4048.054473449392"
      ]
     },
     "execution_count": 175,
     "metadata": {},
     "output_type": "execute_result"
    }
   ],
   "source": [
    "mean_absolute_error(test_dataset_Y, y_pred_SGD)"
   ]
  },
  {
   "cell_type": "code",
   "execution_count": 176,
   "id": "e2c33f53",
   "metadata": {},
   "outputs": [
    {
     "data": {
      "text/plain": [
       "15     1837.23700\n",
       "20    13228.84695\n",
       "21     4149.73600\n",
       "24     6203.90175\n",
       "25    14001.13380\n",
       "44     6079.67150\n",
       "55    47496.49445\n",
       "63     4133.64165\n",
       "77     1532.46970\n",
       "79     6571.02435\n",
       "Name: charges, dtype: float64"
      ]
     },
     "execution_count": 176,
     "metadata": {},
     "output_type": "execute_result"
    }
   ],
   "source": [
    "test_dataset_Y.head(10)"
   ]
  },
  {
   "cell_type": "code",
   "execution_count": 177,
   "id": "ac5955cb",
   "metadata": {},
   "outputs": [
    {
     "data": {
      "text/plain": [
       "array([  562.21526115, 15938.33860001,  6292.6715006 ,  7555.82937458,\n",
       "       13263.41792652])"
      ]
     },
     "execution_count": 177,
     "metadata": {},
     "output_type": "execute_result"
    }
   ],
   "source": [
    "y_pred_SGD[:5]"
   ]
  },
  {
   "cell_type": "code",
   "execution_count": 178,
   "id": "83f0b59e",
   "metadata": {},
   "outputs": [],
   "source": [
    "from sklearn.ensemble import RandomForestRegressor"
   ]
  },
  {
   "cell_type": "code",
   "execution_count": 179,
   "id": "00760474",
   "metadata": {},
   "outputs": [],
   "source": [
    "regressor = RandomForestRegressor(n_estimators = 100, random_state = 0)"
   ]
  },
  {
   "cell_type": "code",
   "execution_count": 180,
   "id": "bfd2849c",
   "metadata": {},
   "outputs": [
    {
     "data": {
      "text/plain": [
       "RandomForestRegressor(random_state=0)"
      ]
     },
     "execution_count": 180,
     "metadata": {},
     "output_type": "execute_result"
    }
   ],
   "source": [
    "regressor.fit(train_dataset_X, train_dataset_Y)"
   ]
  },
  {
   "cell_type": "code",
   "execution_count": 181,
   "id": "6d941465",
   "metadata": {},
   "outputs": [],
   "source": [
    "Y_pred_rf = regressor.predict(test_dataset_X)"
   ]
  },
  {
   "cell_type": "code",
   "execution_count": 182,
   "id": "b2e681e3",
   "metadata": {},
   "outputs": [
    {
     "data": {
      "text/plain": [
       "2620.146250276086"
      ]
     },
     "execution_count": 182,
     "metadata": {},
     "output_type": "execute_result"
    }
   ],
   "source": [
    "mean_absolute_error(test_dataset_Y, Y_pred_rf)"
   ]
  },
  {
   "cell_type": "code",
   "execution_count": 183,
   "id": "1c05608f",
   "metadata": {},
   "outputs": [
    {
     "data": {
      "text/plain": [
       "array([ 1976.679051 , 13778.2754029,  5575.9038241,  6448.9746695,\n",
       "       14284.7853597,  8614.5682638, 48291.795989 ,  4994.4592349,\n",
       "        1763.4736751,  6323.359094 ])"
      ]
     },
     "execution_count": 183,
     "metadata": {},
     "output_type": "execute_result"
    }
   ],
   "source": [
    "Y_pred_rf[:10]"
   ]
  },
  {
   "cell_type": "code",
   "execution_count": 184,
   "id": "400a0bb6",
   "metadata": {},
   "outputs": [],
   "source": [
    "from sklearn import svm, datasets\n",
    "from sklearn.model_selection import GridSearchCV\n",
    "\n"
   ]
  },
  {
   "cell_type": "code",
   "execution_count": 185,
   "id": "c9f40a3f",
   "metadata": {},
   "outputs": [
    {
     "data": {
      "text/plain": [
       "dict_keys(['alpha', 'copy_X', 'fit_intercept', 'max_iter', 'normalize', 'random_state', 'solver', 'tol'])"
      ]
     },
     "execution_count": 185,
     "metadata": {},
     "output_type": "execute_result"
    }
   ],
   "source": [
    "regRidge.get_params().keys()"
   ]
  },
  {
   "cell_type": "code",
   "execution_count": 186,
   "id": "5649004b",
   "metadata": {},
   "outputs": [
    {
     "name": "stdout",
     "output_type": "stream",
     "text": [
      "{'copy_X': True, 'fit_intercept': True, 'normalize': False}\n"
     ]
    }
   ],
   "source": [
    "#param_grid = [{'C': [0.001, 0.1, 1, 10, 100]}]\n",
    "parameters = {'fit_intercept':[True,False], 'normalize':[True,False], 'copy_X':[True, False]}\n",
    "\n",
    "\n",
    "grid = GridSearchCV(regRidge, param_grid = parameters,cv=6)\n",
    "\n",
    "grid.fit(train_dataset_X, train_dataset_Y)\n",
    "print(grid.best_params_)\n",
    "grid_predictions = grid.predict(test_dataset_X) \n",
    "\n",
    "\n"
   ]
  },
  {
   "cell_type": "code",
   "execution_count": 187,
   "id": "dff49a8a",
   "metadata": {},
   "outputs": [
    {
     "data": {
      "text/plain": [
       "201"
      ]
     },
     "execution_count": 187,
     "metadata": {},
     "output_type": "execute_result"
    }
   ],
   "source": [
    "len(grid_predictions)"
   ]
  },
  {
   "cell_type": "code",
   "execution_count": 188,
   "id": "79508f6c",
   "metadata": {},
   "outputs": [
    {
     "data": {
      "text/plain": [
       "4020.8017086102973"
      ]
     },
     "execution_count": 188,
     "metadata": {},
     "output_type": "execute_result"
    }
   ],
   "source": [
    "mean_absolute_error(test_dataset_Y, grid_predictions)"
   ]
  },
  {
   "cell_type": "code",
   "execution_count": 189,
   "id": "beb888aa",
   "metadata": {},
   "outputs": [
    {
     "data": {
      "text/plain": [
       "35607525.613738716"
      ]
     },
     "execution_count": 189,
     "metadata": {},
     "output_type": "execute_result"
    }
   ],
   "source": [
    "from sklearn.metrics import mean_squared_error\n",
    "mean_squared_error(test_dataset_Y, grid_predictions)"
   ]
  },
  {
   "cell_type": "code",
   "execution_count": 190,
   "id": "92c53281",
   "metadata": {},
   "outputs": [],
   "source": [
    "from sklearn.model_selection import cross_val_score\n",
    "from sklearn.model_selection import RepeatedKFold"
   ]
  },
  {
   "cell_type": "code",
   "execution_count": 191,
   "id": "96878d8f",
   "metadata": {},
   "outputs": [],
   "source": [
    "from xgboost import XGBRegressor"
   ]
  },
  {
   "cell_type": "code",
   "execution_count": 192,
   "id": "19f2ac49",
   "metadata": {},
   "outputs": [],
   "source": [
    "XGBmodel = XGBRegressor()"
   ]
  },
  {
   "cell_type": "code",
   "execution_count": 193,
   "id": "0077398f",
   "metadata": {},
   "outputs": [],
   "source": [
    "cv = RepeatedKFold(n_splits=, n_repeats=3, random_state=1)"
   ]
  },
  {
   "cell_type": "code",
   "execution_count": 195,
   "id": "9f9127f9",
   "metadata": {},
   "outputs": [],
   "source": [
    "cvscr = cross_val_score(XGBmodel, train_dataset_X, train_dataset_Y, scoring='neg_mean_absolute_error', cv=cv, n_jobs=-1)"
   ]
  },
  {
   "cell_type": "code",
   "execution_count": 196,
   "id": "d34116fc",
   "metadata": {},
   "outputs": [],
   "source": [
    "from numpy import absolute"
   ]
  },
  {
   "cell_type": "code",
   "execution_count": 197,
   "id": "245a79e9",
   "metadata": {},
   "outputs": [],
   "source": [
    "scores = absolute(cvscr)"
   ]
  },
  {
   "cell_type": "code",
   "execution_count": 198,
   "id": "1b65d1aa",
   "metadata": {},
   "outputs": [
    {
     "name": "stdout",
     "output_type": "stream",
     "text": [
      "Mean MAE: 3123.548 (343.425)\n"
     ]
    }
   ],
   "source": [
    "print('Mean MAE: %.3f (%.3f)' % (scores.mean(), scores.std()) )"
   ]
  },
  {
   "cell_type": "code",
   "execution_count": 200,
   "id": "5bd336a5",
   "metadata": {},
   "outputs": [
    {
     "data": {
      "text/plain": [
       "XGBRegressor(base_score=0.5, booster='gbtree', colsample_bylevel=1,\n",
       "             colsample_bynode=1, colsample_bytree=1, gamma=0, gpu_id=-1,\n",
       "             importance_type='gain', interaction_constraints='',\n",
       "             learning_rate=0.300000012, max_delta_step=0, max_depth=6,\n",
       "             min_child_weight=1, missing=nan, monotone_constraints='()',\n",
       "             n_estimators=100, n_jobs=8, num_parallel_tree=1, random_state=0,\n",
       "             reg_alpha=0, reg_lambda=1, scale_pos_weight=1, subsample=1,\n",
       "             tree_method='exact', validate_parameters=1, verbosity=None)"
      ]
     },
     "execution_count": 200,
     "metadata": {},
     "output_type": "execute_result"
    }
   ],
   "source": [
    "XGBmodel.fit(train_dataset_X, train_dataset_Y)"
   ]
  },
  {
   "cell_type": "code",
   "execution_count": 201,
   "id": "12cd74eb",
   "metadata": {},
   "outputs": [],
   "source": [
    "y_pred_XGB = XGBmodel.predict(test_dataset_X)"
   ]
  },
  {
   "cell_type": "code",
   "execution_count": 202,
   "id": "c3b1d5c8",
   "metadata": {},
   "outputs": [
    {
     "data": {
      "text/plain": [
       "2792.76951686538"
      ]
     },
     "execution_count": 202,
     "metadata": {},
     "output_type": "execute_result"
    }
   ],
   "source": [
    "mean_absolute_error(test_dataset_Y, y_pred_XGB)"
   ]
  },
  {
   "cell_type": "code",
   "execution_count": null,
   "id": "e73ff280",
   "metadata": {},
   "outputs": [],
   "source": []
  }
 ],
 "metadata": {
  "kernelspec": {
   "display_name": "Python 3",
   "language": "python",
   "name": "python3"
  },
  "language_info": {
   "codemirror_mode": {
    "name": "ipython",
    "version": 3
   },
   "file_extension": ".py",
   "mimetype": "text/x-python",
   "name": "python",
   "nbconvert_exporter": "python",
   "pygments_lexer": "ipython3",
   "version": "3.8.5"
  }
 },
 "nbformat": 4,
 "nbformat_minor": 5
}
