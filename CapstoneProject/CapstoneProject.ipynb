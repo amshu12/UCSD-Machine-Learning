{
 "cells": [
  {
   "cell_type": "code",
   "execution_count": 57,
   "id": "9191baaf",
   "metadata": {},
   "outputs": [],
   "source": [
    "import pandas as pd\n",
    "import matplotlib.pyplot as plt\n",
    "\n",
    "%matplotlib inline"
   ]
  },
  {
   "cell_type": "code",
   "execution_count": 58,
   "id": "e534d25c",
   "metadata": {},
   "outputs": [
    {
     "data": {
      "text/plain": [
       "'1.1.3'"
      ]
     },
     "execution_count": 58,
     "metadata": {},
     "output_type": "execute_result"
    }
   ],
   "source": [
    "pd.__version__"
   ]
  },
  {
   "cell_type": "code",
   "execution_count": 59,
   "id": "380d8a64",
   "metadata": {},
   "outputs": [],
   "source": [
    "# Read the CSV data into a DataFrame object\n",
    "insuranceDataOrig = pd.read_csv('insurance.csv')"
   ]
  },
  {
   "cell_type": "code",
   "execution_count": 60,
   "id": "998d8caf",
   "metadata": {},
   "outputs": [
    {
     "name": "stdout",
     "output_type": "stream",
     "text": [
      "<class 'pandas.core.frame.DataFrame'>\n",
      "RangeIndex: 1338 entries, 0 to 1337\n",
      "Data columns (total 7 columns):\n",
      " #   Column    Non-Null Count  Dtype  \n",
      "---  ------    --------------  -----  \n",
      " 0   age       1338 non-null   int64  \n",
      " 1   sex       1338 non-null   object \n",
      " 2   bmi       1338 non-null   float64\n",
      " 3   children  1338 non-null   int64  \n",
      " 4   smoker    1338 non-null   object \n",
      " 5   region    1338 non-null   object \n",
      " 6   charges   1338 non-null   float64\n",
      "dtypes: float64(2), int64(2), object(3)\n",
      "memory usage: 73.3+ KB\n"
     ]
    }
   ],
   "source": [
    "# Examine the columns (features) of the dataset\n",
    "insuranceDataOrig.info()"
   ]
  },
  {
   "cell_type": "code",
   "execution_count": 61,
   "id": "37ffe149",
   "metadata": {},
   "outputs": [
    {
     "data": {
      "text/html": [
       "<div>\n",
       "<style scoped>\n",
       "    .dataframe tbody tr th:only-of-type {\n",
       "        vertical-align: middle;\n",
       "    }\n",
       "\n",
       "    .dataframe tbody tr th {\n",
       "        vertical-align: top;\n",
       "    }\n",
       "\n",
       "    .dataframe thead th {\n",
       "        text-align: right;\n",
       "    }\n",
       "</style>\n",
       "<table border=\"1\" class=\"dataframe\">\n",
       "  <thead>\n",
       "    <tr style=\"text-align: right;\">\n",
       "      <th></th>\n",
       "      <th>age</th>\n",
       "      <th>bmi</th>\n",
       "      <th>children</th>\n",
       "      <th>charges</th>\n",
       "    </tr>\n",
       "  </thead>\n",
       "  <tbody>\n",
       "    <tr>\n",
       "      <th>count</th>\n",
       "      <td>1338.000000</td>\n",
       "      <td>1338.000000</td>\n",
       "      <td>1338.000000</td>\n",
       "      <td>1338.000000</td>\n",
       "    </tr>\n",
       "    <tr>\n",
       "      <th>mean</th>\n",
       "      <td>39.207025</td>\n",
       "      <td>30.663397</td>\n",
       "      <td>1.094918</td>\n",
       "      <td>13270.422265</td>\n",
       "    </tr>\n",
       "    <tr>\n",
       "      <th>std</th>\n",
       "      <td>14.049960</td>\n",
       "      <td>6.098187</td>\n",
       "      <td>1.205493</td>\n",
       "      <td>12110.011237</td>\n",
       "    </tr>\n",
       "    <tr>\n",
       "      <th>min</th>\n",
       "      <td>18.000000</td>\n",
       "      <td>15.960000</td>\n",
       "      <td>0.000000</td>\n",
       "      <td>1121.873900</td>\n",
       "    </tr>\n",
       "    <tr>\n",
       "      <th>25%</th>\n",
       "      <td>27.000000</td>\n",
       "      <td>26.296250</td>\n",
       "      <td>0.000000</td>\n",
       "      <td>4740.287150</td>\n",
       "    </tr>\n",
       "    <tr>\n",
       "      <th>50%</th>\n",
       "      <td>39.000000</td>\n",
       "      <td>30.400000</td>\n",
       "      <td>1.000000</td>\n",
       "      <td>9382.033000</td>\n",
       "    </tr>\n",
       "    <tr>\n",
       "      <th>75%</th>\n",
       "      <td>51.000000</td>\n",
       "      <td>34.693750</td>\n",
       "      <td>2.000000</td>\n",
       "      <td>16639.912515</td>\n",
       "    </tr>\n",
       "    <tr>\n",
       "      <th>max</th>\n",
       "      <td>64.000000</td>\n",
       "      <td>53.130000</td>\n",
       "      <td>5.000000</td>\n",
       "      <td>63770.428010</td>\n",
       "    </tr>\n",
       "  </tbody>\n",
       "</table>\n",
       "</div>"
      ],
      "text/plain": [
       "               age          bmi     children       charges\n",
       "count  1338.000000  1338.000000  1338.000000   1338.000000\n",
       "mean     39.207025    30.663397     1.094918  13270.422265\n",
       "std      14.049960     6.098187     1.205493  12110.011237\n",
       "min      18.000000    15.960000     0.000000   1121.873900\n",
       "25%      27.000000    26.296250     0.000000   4740.287150\n",
       "50%      39.000000    30.400000     1.000000   9382.033000\n",
       "75%      51.000000    34.693750     2.000000  16639.912515\n",
       "max      64.000000    53.130000     5.000000  63770.428010"
      ]
     },
     "execution_count": 61,
     "metadata": {},
     "output_type": "execute_result"
    }
   ],
   "source": [
    "# Get a glimpse of the first 5 rows of the insurance dataset\n",
    "insuranceDataOrig.describe()"
   ]
  },
  {
   "cell_type": "code",
   "execution_count": 62,
   "id": "cd61b8ff",
   "metadata": {},
   "outputs": [],
   "source": [
    "insuranceData = insuranceDataOrig[insuranceDataOrig['charges'] <50000 ]"
   ]
  },
  {
   "cell_type": "code",
   "execution_count": 63,
   "id": "4066eccf",
   "metadata": {},
   "outputs": [
    {
     "data": {
      "text/html": [
       "<div>\n",
       "<style scoped>\n",
       "    .dataframe tbody tr th:only-of-type {\n",
       "        vertical-align: middle;\n",
       "    }\n",
       "\n",
       "    .dataframe tbody tr th {\n",
       "        vertical-align: top;\n",
       "    }\n",
       "\n",
       "    .dataframe thead th {\n",
       "        text-align: right;\n",
       "    }\n",
       "</style>\n",
       "<table border=\"1\" class=\"dataframe\">\n",
       "  <thead>\n",
       "    <tr style=\"text-align: right;\">\n",
       "      <th></th>\n",
       "      <th>age</th>\n",
       "      <th>sex</th>\n",
       "      <th>bmi</th>\n",
       "      <th>children</th>\n",
       "      <th>smoker</th>\n",
       "      <th>region</th>\n",
       "      <th>charges</th>\n",
       "    </tr>\n",
       "  </thead>\n",
       "  <tbody>\n",
       "    <tr>\n",
       "      <th>1333</th>\n",
       "      <td>50</td>\n",
       "      <td>male</td>\n",
       "      <td>30.97</td>\n",
       "      <td>3</td>\n",
       "      <td>no</td>\n",
       "      <td>northwest</td>\n",
       "      <td>10600.5483</td>\n",
       "    </tr>\n",
       "    <tr>\n",
       "      <th>1334</th>\n",
       "      <td>18</td>\n",
       "      <td>female</td>\n",
       "      <td>31.92</td>\n",
       "      <td>0</td>\n",
       "      <td>no</td>\n",
       "      <td>northeast</td>\n",
       "      <td>2205.9808</td>\n",
       "    </tr>\n",
       "    <tr>\n",
       "      <th>1335</th>\n",
       "      <td>18</td>\n",
       "      <td>female</td>\n",
       "      <td>36.85</td>\n",
       "      <td>0</td>\n",
       "      <td>no</td>\n",
       "      <td>southeast</td>\n",
       "      <td>1629.8335</td>\n",
       "    </tr>\n",
       "    <tr>\n",
       "      <th>1336</th>\n",
       "      <td>21</td>\n",
       "      <td>female</td>\n",
       "      <td>25.80</td>\n",
       "      <td>0</td>\n",
       "      <td>no</td>\n",
       "      <td>southwest</td>\n",
       "      <td>2007.9450</td>\n",
       "    </tr>\n",
       "    <tr>\n",
       "      <th>1337</th>\n",
       "      <td>61</td>\n",
       "      <td>female</td>\n",
       "      <td>29.07</td>\n",
       "      <td>0</td>\n",
       "      <td>yes</td>\n",
       "      <td>northwest</td>\n",
       "      <td>29141.3603</td>\n",
       "    </tr>\n",
       "  </tbody>\n",
       "</table>\n",
       "</div>"
      ],
      "text/plain": [
       "      age     sex    bmi  children smoker     region     charges\n",
       "1333   50    male  30.97         3     no  northwest  10600.5483\n",
       "1334   18  female  31.92         0     no  northeast   2205.9808\n",
       "1335   18  female  36.85         0     no  southeast   1629.8335\n",
       "1336   21  female  25.80         0     no  southwest   2007.9450\n",
       "1337   61  female  29.07         0    yes  northwest  29141.3603"
      ]
     },
     "execution_count": 63,
     "metadata": {},
     "output_type": "execute_result"
    }
   ],
   "source": [
    "# Get a glimpse of the last 5 rows of the insurance dataset\n",
    "insuranceData.tail()"
   ]
  },
  {
   "cell_type": "code",
   "execution_count": 64,
   "id": "5027ac9c",
   "metadata": {},
   "outputs": [
    {
     "data": {
      "text/plain": [
       "1331"
      ]
     },
     "execution_count": 64,
     "metadata": {},
     "output_type": "execute_result"
    }
   ],
   "source": [
    "# Check how many rows are in the dataset\n",
    "len(insuranceData)"
   ]
  },
  {
   "cell_type": "code",
   "execution_count": 65,
   "id": "a2d5625d",
   "metadata": {},
   "outputs": [
    {
     "name": "stdout",
     "output_type": "stream",
     "text": [
      "Total insurance data rows:  1331\n"
     ]
    }
   ],
   "source": [
    "print('Total insurance data rows: ',len(insuranceData))"
   ]
  },
  {
   "cell_type": "code",
   "execution_count": 66,
   "id": "49dcce2a",
   "metadata": {},
   "outputs": [
    {
     "data": {
      "text/plain": [
       "pandas.core.frame.DataFrame"
      ]
     },
     "execution_count": 66,
     "metadata": {},
     "output_type": "execute_result"
    }
   ],
   "source": [
    "type(insuranceData)"
   ]
  },
  {
   "cell_type": "code",
   "execution_count": 67,
   "id": "81e74c66",
   "metadata": {},
   "outputs": [
    {
     "name": "stdout",
     "output_type": "stream",
     "text": [
      "age         0\n",
      "sex         0\n",
      "bmi         0\n",
      "children    0\n",
      "smoker      0\n",
      "region      0\n",
      "charges     0\n",
      "dtype: int64\n"
     ]
    }
   ],
   "source": [
    "# Check if there are any null values in the dataset\n",
    "print(insuranceData.isnull().sum())"
   ]
  },
  {
   "cell_type": "code",
   "execution_count": 68,
   "id": "604340ca",
   "metadata": {},
   "outputs": [
    {
     "name": "stderr",
     "output_type": "stream",
     "text": [
      "<ipython-input-68-fbaa9daabd90>:2: SettingWithCopyWarning: \n",
      "A value is trying to be set on a copy of a slice from a DataFrame\n",
      "\n",
      "See the caveats in the documentation: https://pandas.pydata.org/pandas-docs/stable/user_guide/indexing.html#returning-a-view-versus-a-copy\n",
      "  insuranceData.dropna(inplace=True)\n"
     ]
    }
   ],
   "source": [
    "# Drop any null values\n",
    "insuranceData.dropna(inplace=True)"
   ]
  },
  {
   "cell_type": "code",
   "execution_count": 69,
   "id": "d560c13d",
   "metadata": {},
   "outputs": [
    {
     "name": "stdout",
     "output_type": "stream",
     "text": [
      "Total insurance data rows:  1331\n"
     ]
    }
   ],
   "source": [
    "print('Total insurance data rows: ',len(insuranceData))"
   ]
  },
  {
   "cell_type": "code",
   "execution_count": 70,
   "id": "90166259",
   "metadata": {},
   "outputs": [],
   "source": [
    "insuranceDataAge=insuranceData[\"age\"].to_frame()"
   ]
  },
  {
   "cell_type": "code",
   "execution_count": 71,
   "id": "3d68b151",
   "metadata": {},
   "outputs": [],
   "source": [
    "insuranceDataAge.columns =[ 'age']"
   ]
  },
  {
   "cell_type": "code",
   "execution_count": 72,
   "id": "5165274a",
   "metadata": {},
   "outputs": [
    {
     "data": {
      "text/html": [
       "<div>\n",
       "<style scoped>\n",
       "    .dataframe tbody tr th:only-of-type {\n",
       "        vertical-align: middle;\n",
       "    }\n",
       "\n",
       "    .dataframe tbody tr th {\n",
       "        vertical-align: top;\n",
       "    }\n",
       "\n",
       "    .dataframe thead th {\n",
       "        text-align: right;\n",
       "    }\n",
       "</style>\n",
       "<table border=\"1\" class=\"dataframe\">\n",
       "  <thead>\n",
       "    <tr style=\"text-align: right;\">\n",
       "      <th></th>\n",
       "      <th>age</th>\n",
       "    </tr>\n",
       "  </thead>\n",
       "  <tbody>\n",
       "    <tr>\n",
       "      <th>0</th>\n",
       "      <td>19</td>\n",
       "    </tr>\n",
       "    <tr>\n",
       "      <th>1</th>\n",
       "      <td>18</td>\n",
       "    </tr>\n",
       "    <tr>\n",
       "      <th>2</th>\n",
       "      <td>28</td>\n",
       "    </tr>\n",
       "    <tr>\n",
       "      <th>3</th>\n",
       "      <td>33</td>\n",
       "    </tr>\n",
       "    <tr>\n",
       "      <th>4</th>\n",
       "      <td>32</td>\n",
       "    </tr>\n",
       "    <tr>\n",
       "      <th>...</th>\n",
       "      <td>...</td>\n",
       "    </tr>\n",
       "    <tr>\n",
       "      <th>1333</th>\n",
       "      <td>50</td>\n",
       "    </tr>\n",
       "    <tr>\n",
       "      <th>1334</th>\n",
       "      <td>18</td>\n",
       "    </tr>\n",
       "    <tr>\n",
       "      <th>1335</th>\n",
       "      <td>18</td>\n",
       "    </tr>\n",
       "    <tr>\n",
       "      <th>1336</th>\n",
       "      <td>21</td>\n",
       "    </tr>\n",
       "    <tr>\n",
       "      <th>1337</th>\n",
       "      <td>61</td>\n",
       "    </tr>\n",
       "  </tbody>\n",
       "</table>\n",
       "<p>1331 rows × 1 columns</p>\n",
       "</div>"
      ],
      "text/plain": [
       "      age\n",
       "0      19\n",
       "1      18\n",
       "2      28\n",
       "3      33\n",
       "4      32\n",
       "...   ...\n",
       "1333   50\n",
       "1334   18\n",
       "1335   18\n",
       "1336   21\n",
       "1337   61\n",
       "\n",
       "[1331 rows x 1 columns]"
      ]
     },
     "execution_count": 72,
     "metadata": {},
     "output_type": "execute_result"
    }
   ],
   "source": [
    "insuranceDataAge"
   ]
  },
  {
   "cell_type": "code",
   "execution_count": 73,
   "id": "d542136e",
   "metadata": {},
   "outputs": [
    {
     "data": {
      "text/html": [
       "<div>\n",
       "<style scoped>\n",
       "    .dataframe tbody tr th:only-of-type {\n",
       "        vertical-align: middle;\n",
       "    }\n",
       "\n",
       "    .dataframe tbody tr th {\n",
       "        vertical-align: top;\n",
       "    }\n",
       "\n",
       "    .dataframe thead th {\n",
       "        text-align: right;\n",
       "    }\n",
       "</style>\n",
       "<table border=\"1\" class=\"dataframe\">\n",
       "  <thead>\n",
       "    <tr style=\"text-align: right;\">\n",
       "      <th></th>\n",
       "      <th>age</th>\n",
       "    </tr>\n",
       "  </thead>\n",
       "  <tbody>\n",
       "    <tr>\n",
       "      <th>623</th>\n",
       "      <td>18</td>\n",
       "    </tr>\n",
       "    <tr>\n",
       "      <th>482</th>\n",
       "      <td>18</td>\n",
       "    </tr>\n",
       "    <tr>\n",
       "      <th>492</th>\n",
       "      <td>18</td>\n",
       "    </tr>\n",
       "    <tr>\n",
       "      <th>525</th>\n",
       "      <td>18</td>\n",
       "    </tr>\n",
       "    <tr>\n",
       "      <th>529</th>\n",
       "      <td>18</td>\n",
       "    </tr>\n",
       "    <tr>\n",
       "      <th>...</th>\n",
       "      <td>...</td>\n",
       "    </tr>\n",
       "    <tr>\n",
       "      <th>398</th>\n",
       "      <td>64</td>\n",
       "    </tr>\n",
       "    <tr>\n",
       "      <th>335</th>\n",
       "      <td>64</td>\n",
       "    </tr>\n",
       "    <tr>\n",
       "      <th>1265</th>\n",
       "      <td>64</td>\n",
       "    </tr>\n",
       "    <tr>\n",
       "      <th>378</th>\n",
       "      <td>64</td>\n",
       "    </tr>\n",
       "    <tr>\n",
       "      <th>635</th>\n",
       "      <td>64</td>\n",
       "    </tr>\n",
       "  </tbody>\n",
       "</table>\n",
       "<p>1331 rows × 1 columns</p>\n",
       "</div>"
      ],
      "text/plain": [
       "      age\n",
       "623    18\n",
       "482    18\n",
       "492    18\n",
       "525    18\n",
       "529    18\n",
       "...   ...\n",
       "398    64\n",
       "335    64\n",
       "1265   64\n",
       "378    64\n",
       "635    64\n",
       "\n",
       "[1331 rows x 1 columns]"
      ]
     },
     "execution_count": 73,
     "metadata": {},
     "output_type": "execute_result"
    }
   ],
   "source": [
    "insuranceDataAge.sort_values(by=['age'],ascending=True)"
   ]
  },
  {
   "cell_type": "code",
   "execution_count": 74,
   "id": "3194f2b0",
   "metadata": {},
   "outputs": [
    {
     "name": "stdout",
     "output_type": "stream",
     "text": [
      "Minimum age of insured:  age    18\n",
      "dtype: int64\n"
     ]
    }
   ],
   "source": [
    "print('Minimum age of insured: ',insuranceDataAge.min() )"
   ]
  },
  {
   "cell_type": "code",
   "execution_count": 75,
   "id": "f35d5dab",
   "metadata": {},
   "outputs": [
    {
     "name": "stdout",
     "output_type": "stream",
     "text": [
      "Maximum age of insured:  age    64\n",
      "dtype: int64\n"
     ]
    }
   ],
   "source": [
    "print('Maximum age of insured: ',insuranceDataAge.max() )"
   ]
  },
  {
   "cell_type": "code",
   "execution_count": 76,
   "id": "fa45cddf",
   "metadata": {},
   "outputs": [
    {
     "data": {
      "image/png": "[encoded data removed]",
      "text/plain": [
       "<Figure size 432x288 with 1 Axes>"
      ]
     },
     "metadata": {
      "needs_background": "light"
     },
     "output_type": "display_data"
    }
   ],
   "source": [
    "# Observe the distribution of ages in the dataset\n",
    "custom_bins = [18, 28, 38, 48,58,68]\n",
    "insuranceDataAge.plot.hist('age',  bins=custom_bins,rwidth =0.5)\n",
    "plt.show()"
   ]
  },
  {
   "cell_type": "code",
   "execution_count": 77,
   "id": "43d2b127",
   "metadata": {},
   "outputs": [],
   "source": [
    "insuranceDataAge=insuranceData[['age','charges']].copy()"
   ]
  },
  {
   "cell_type": "code",
   "execution_count": 78,
   "id": "cfab29ca",
   "metadata": {},
   "outputs": [],
   "source": [
    "insuranceDataPrice = insuranceData[['charges']].copy()"
   ]
  },
  {
   "cell_type": "code",
   "execution_count": 79,
   "id": "c555919c",
   "metadata": {},
   "outputs": [
    {
     "data": {
      "text/plain": [
       "<AxesSubplot:xlabel='age', ylabel='charges'>"
      ]
     },
     "execution_count": 79,
     "metadata": {},
     "output_type": "execute_result"
    },
    {
     "data": {
      "image/png": "[encoded data removed]",
      "text/plain": [
       "<Figure size 432x288 with 1 Axes>"
      ]
     },
     "metadata": {
      "needs_background": "light"
     },
     "output_type": "display_data"
    }
   ],
   "source": [
    "insuranceDataAge.plot('age', 'charges', kind='scatter')"
   ]
  },
  {
   "cell_type": "code",
   "execution_count": 80,
   "id": "b41aa147",
   "metadata": {},
   "outputs": [
    {
     "data": {
      "text/plain": [
       "<AxesSubplot:xlabel='sex', ylabel='charges'>"
      ]
     },
     "execution_count": 80,
     "metadata": {},
     "output_type": "execute_result"
    },
    {
     "data": {
      "image/png": "[encoded data removed]",
      "text/plain": [
       "<Figure size 432x288 with 1 Axes>"
      ]
     },
     "metadata": {
      "needs_background": "light"
     },
     "output_type": "display_data"
    }
   ],
   "source": [
    "insuranceDataSex=insuranceData[['sex','charges']].copy()\n",
    "insuranceDataSex.plot('sex', 'charges', kind='scatter')"
   ]
  },
  {
   "cell_type": "code",
   "execution_count": 81,
   "id": "0da15ba5",
   "metadata": {},
   "outputs": [
    {
     "data": {
      "text/plain": [
       "<AxesSubplot:xlabel='bmi', ylabel='charges'>"
      ]
     },
     "execution_count": 81,
     "metadata": {},
     "output_type": "execute_result"
    },
    {
     "data": {
      "image/png": "[encoded data removed]",
      "text/plain": [
       "<Figure size 432x288 with 1 Axes>"
      ]
     },
     "metadata": {
      "needs_background": "light"
     },
     "output_type": "display_data"
    }
   ],
   "source": [
    "insuranceDataBMI=insuranceData[['bmi','charges']].copy()\n",
    "insuranceDataBMI.plot('bmi', 'charges', kind='scatter')"
   ]
  },
  {
   "cell_type": "code",
   "execution_count": 82,
   "id": "16ad025d",
   "metadata": {},
   "outputs": [
    {
     "data": {
      "text/plain": [
       "<AxesSubplot:xlabel='children', ylabel='charges'>"
      ]
     },
     "execution_count": 82,
     "metadata": {},
     "output_type": "execute_result"
    },
    {
     "data": {
      "image/png": "[encoded data removed]",
      "text/plain": [
       "<Figure size 432x288 with 1 Axes>"
      ]
     },
     "metadata": {
      "needs_background": "light"
     },
     "output_type": "display_data"
    }
   ],
   "source": [
    "insuranceDataChildren=insuranceData[['children','charges']].copy()\n",
    "insuranceDataChildren.plot('children', 'charges', kind='scatter')"
   ]
  },
  {
   "cell_type": "code",
   "execution_count": 83,
   "id": "635f0a40",
   "metadata": {},
   "outputs": [
    {
     "data": {
      "text/plain": [
       "<AxesSubplot:xlabel='smoker', ylabel='charges'>"
      ]
     },
     "execution_count": 83,
     "metadata": {},
     "output_type": "execute_result"
    },
    {
     "data": {
      "image/png": "[encoded data removed]",
      "text/plain": [
       "<Figure size 432x288 with 1 Axes>"
      ]
     },
     "metadata": {
      "needs_background": "light"
     },
     "output_type": "display_data"
    }
   ],
   "source": [
    "insuranceDataSmoker=insuranceData[['smoker','charges']].copy()\n",
    "insuranceDataSmoker.plot('smoker', 'charges', kind='scatter')"
   ]
  },
  {
   "cell_type": "code",
   "execution_count": 84,
   "id": "0e825ec8",
   "metadata": {},
   "outputs": [
    {
     "data": {
      "text/plain": [
       "<AxesSubplot:xlabel='region', ylabel='charges'>"
      ]
     },
     "execution_count": 84,
     "metadata": {},
     "output_type": "execute_result"
    },
    {
     "data": {
      "image/png": "[encoded data removed]",
      "text/plain": [
       "<Figure size 432x288 with 1 Axes>"
      ]
     },
     "metadata": {
      "needs_background": "light"
     },
     "output_type": "display_data"
    }
   ],
   "source": [
    "insuranceDataRegion=insuranceData[['region','charges']].copy()\n",
    "insuranceDataRegion.plot('region', 'charges', kind='scatter')"
   ]
  },
  {
   "cell_type": "code",
   "execution_count": 85,
   "id": "8cb5cd75",
   "metadata": {},
   "outputs": [
    {
     "data": {
      "text/plain": [
       "<AxesSubplot:xlabel='region', ylabel='smoker'>"
      ]
     },
     "execution_count": 85,
     "metadata": {},
     "output_type": "execute_result"
    },
    {
     "data": {
      "image/png": "[encoded data removed]",
      "text/plain": [
       "<Figure size 432x288 with 1 Axes>"
      ]
     },
     "metadata": {
      "needs_background": "light"
     },
     "output_type": "display_data"
    }
   ],
   "source": [
    "insuranceDataRegionSmoker=insuranceData[['smoker','region']].copy()\n",
    "insuranceDataRegionSmoker.plot('region', 'smoker', kind='scatter')"
   ]
  },
  {
   "cell_type": "code",
   "execution_count": 86,
   "id": "16ff93b1",
   "metadata": {},
   "outputs": [
    {
     "data": {
      "text/plain": [
       "1331"
      ]
     },
     "execution_count": 86,
     "metadata": {},
     "output_type": "execute_result"
    }
   ],
   "source": [
    "len(insuranceDataRegionSmoker)"
   ]
  },
  {
   "cell_type": "code",
   "execution_count": 87,
   "id": "aa844a56",
   "metadata": {},
   "outputs": [],
   "source": [
    "train_dataset = insuranceData.sample(frac=0.85, random_state=1)\n",
    "test_dataset = insuranceData.drop(train_dataset.index)"
   ]
  },
  {
   "cell_type": "code",
   "execution_count": 88,
   "id": "a36024a1",
   "metadata": {},
   "outputs": [
    {
     "data": {
      "text/html": [
       "<div>\n",
       "<style scoped>\n",
       "    .dataframe tbody tr th:only-of-type {\n",
       "        vertical-align: middle;\n",
       "    }\n",
       "\n",
       "    .dataframe tbody tr th {\n",
       "        vertical-align: top;\n",
       "    }\n",
       "\n",
       "    .dataframe thead th {\n",
       "        text-align: right;\n",
       "    }\n",
       "</style>\n",
       "<table border=\"1\" class=\"dataframe\">\n",
       "  <thead>\n",
       "    <tr style=\"text-align: right;\">\n",
       "      <th></th>\n",
       "      <th>age</th>\n",
       "      <th>bmi</th>\n",
       "      <th>children</th>\n",
       "      <th>charges</th>\n",
       "    </tr>\n",
       "  </thead>\n",
       "  <tbody>\n",
       "    <tr>\n",
       "      <th>count</th>\n",
       "      <td>1131.000000</td>\n",
       "      <td>1131.000000</td>\n",
       "      <td>1131.000000</td>\n",
       "      <td>1131.000000</td>\n",
       "    </tr>\n",
       "    <tr>\n",
       "      <th>mean</th>\n",
       "      <td>39.365164</td>\n",
       "      <td>30.614567</td>\n",
       "      <td>1.100796</td>\n",
       "      <td>13254.936444</td>\n",
       "    </tr>\n",
       "    <tr>\n",
       "      <th>std</th>\n",
       "      <td>14.011821</td>\n",
       "      <td>6.120653</td>\n",
       "      <td>1.206366</td>\n",
       "      <td>11764.007990</td>\n",
       "    </tr>\n",
       "    <tr>\n",
       "      <th>min</th>\n",
       "      <td>18.000000</td>\n",
       "      <td>15.960000</td>\n",
       "      <td>0.000000</td>\n",
       "      <td>1121.873900</td>\n",
       "    </tr>\n",
       "    <tr>\n",
       "      <th>25%</th>\n",
       "      <td>27.000000</td>\n",
       "      <td>26.302500</td>\n",
       "      <td>0.000000</td>\n",
       "      <td>4842.251225</td>\n",
       "    </tr>\n",
       "    <tr>\n",
       "      <th>50%</th>\n",
       "      <td>40.000000</td>\n",
       "      <td>30.305000</td>\n",
       "      <td>1.000000</td>\n",
       "      <td>9447.250350</td>\n",
       "    </tr>\n",
       "    <tr>\n",
       "      <th>75%</th>\n",
       "      <td>51.000000</td>\n",
       "      <td>34.735000</td>\n",
       "      <td>2.000000</td>\n",
       "      <td>16840.667970</td>\n",
       "    </tr>\n",
       "    <tr>\n",
       "      <th>max</th>\n",
       "      <td>64.000000</td>\n",
       "      <td>52.580000</td>\n",
       "      <td>5.000000</td>\n",
       "      <td>48970.247600</td>\n",
       "    </tr>\n",
       "  </tbody>\n",
       "</table>\n",
       "</div>"
      ],
      "text/plain": [
       "               age          bmi     children       charges\n",
       "count  1131.000000  1131.000000  1131.000000   1131.000000\n",
       "mean     39.365164    30.614567     1.100796  13254.936444\n",
       "std      14.011821     6.120653     1.206366  11764.007990\n",
       "min      18.000000    15.960000     0.000000   1121.873900\n",
       "25%      27.000000    26.302500     0.000000   4842.251225\n",
       "50%      40.000000    30.305000     1.000000   9447.250350\n",
       "75%      51.000000    34.735000     2.000000  16840.667970\n",
       "max      64.000000    52.580000     5.000000  48970.247600"
      ]
     },
     "execution_count": 88,
     "metadata": {},
     "output_type": "execute_result"
    }
   ],
   "source": [
    "len(train_dataset)\n",
    "train_dataset.describe()"
   ]
  },
  {
   "cell_type": "code",
   "execution_count": null,
   "id": "344fe389",
   "metadata": {},
   "outputs": [],
   "source": []
  },
  {
   "cell_type": "code",
   "execution_count": 89,
   "id": "fe6e3da2",
   "metadata": {},
   "outputs": [
    {
     "data": {
      "text/plain": [
       "200"
      ]
     },
     "execution_count": 89,
     "metadata": {},
     "output_type": "execute_result"
    }
   ],
   "source": [
    "len(test_dataset)"
   ]
  },
  {
   "cell_type": "code",
   "execution_count": 90,
   "id": "bcef82f7",
   "metadata": {},
   "outputs": [
    {
     "name": "stdout",
     "output_type": "stream",
     "text": [
      "Requirement already satisfied: pandas_profiling in c:\\users\\amshuman\\anaconda3\\lib\\site-packages (3.0.0)\n",
      "Requirement already satisfied: jinja2>=2.11.1 in c:\\users\\amshuman\\anaconda3\\lib\\site-packages (from pandas_profiling) (2.11.2)\n",
      "Requirement already satisfied: tqdm>=4.48.2 in c:\\users\\amshuman\\anaconda3\\lib\\site-packages (from pandas_profiling) (4.50.2)\n",
      "Requirement already satisfied: phik>=0.11.1 in c:\\users\\amshuman\\anaconda3\\lib\\site-packages (from pandas_profiling) (0.11.2)\n",
      "Requirement already satisfied: tangled-up-in-unicode==0.1.0 in c:\\users\\amshuman\\anaconda3\\lib\\site-packages (from pandas_profiling) (0.1.0)\n",
      "Requirement already satisfied: numpy>=1.16.0 in c:\\users\\amshuman\\anaconda3\\lib\\site-packages (from pandas_profiling) (1.19.2)\n",
      "Requirement already satisfied: joblib in c:\\users\\amshuman\\anaconda3\\lib\\site-packages (from pandas_profiling) (0.17.0)\n",
      "Requirement already satisfied: PyYAML>=5.0.0 in c:\\users\\amshuman\\anaconda3\\lib\\site-packages (from pandas_profiling) (5.3.1)\n",
      "Requirement already satisfied: pydantic>=1.8.1 in c:\\users\\amshuman\\anaconda3\\lib\\site-packages (from pandas_profiling) (1.8.2)\n",
      "Requirement already satisfied: requests>=2.24.0 in c:\\users\\amshuman\\anaconda3\\lib\\site-packages (from pandas_profiling) (2.24.0)\n",
      "Requirement already satisfied: pandas!=1.0.0,!=1.0.1,!=1.0.2,!=1.1.0,>=0.25.3 in c:\\users\\amshuman\\anaconda3\\lib\\site-packages (from pandas_profiling) (1.1.3)\n",
      "Requirement already satisfied: htmlmin>=0.1.12 in c:\\users\\amshuman\\anaconda3\\lib\\site-packages (from pandas_profiling) (0.1.12)\n",
      "Requirement already satisfied: missingno>=0.4.2 in c:\\users\\amshuman\\anaconda3\\lib\\site-packages (from pandas_profiling) (0.5.0)\n",
      "Requirement already satisfied: seaborn>=0.10.1 in c:\\users\\amshuman\\anaconda3\\lib\\site-packages (from pandas_profiling) (0.11.0)\n",
      "Requirement already satisfied: scipy>=1.4.1 in c:\\users\\amshuman\\anaconda3\\lib\\site-packages (from pandas_profiling) (1.5.2)\n",
      "Requirement already satisfied: matplotlib>=3.2.0 in c:\\users\\amshuman\\anaconda3\\lib\\site-packages (from pandas_profiling) (3.3.2)\n",
      "Requirement already satisfied: visions[type_image_path]==0.7.1 in c:\\users\\amshuman\\anaconda3\\lib\\site-packages (from pandas_profiling) (0.7.1)\n",
      "Requirement already satisfied: MarkupSafe>=0.23 in c:\\users\\amshuman\\anaconda3\\lib\\site-packages (from jinja2>=2.11.1->pandas_profiling) (1.1.1)\n",
      "Requirement already satisfied: typing-extensions>=3.7.4.3 in c:\\users\\amshuman\\anaconda3\\lib\\site-packages (from pydantic>=1.8.1->pandas_profiling) (3.7.4.3)\n",
      "Requirement already satisfied: urllib3!=1.25.0,!=1.25.1,<1.26,>=1.21.1 in c:\\users\\amshuman\\anaconda3\\lib\\site-packages (from requests>=2.24.0->pandas_profiling) (1.25.11)\n",
      "Requirement already satisfied: chardet<4,>=3.0.2 in c:\\users\\amshuman\\anaconda3\\lib\\site-packages (from requests>=2.24.0->pandas_profiling) (3.0.4)\n",
      "Requirement already satisfied: idna<3,>=2.5 in c:\\users\\amshuman\\anaconda3\\lib\\site-packages (from requests>=2.24.0->pandas_profiling) (2.10)\n",
      "Requirement already satisfied: certifi>=2017.4.17 in c:\\users\\amshuman\\anaconda3\\lib\\site-packages (from requests>=2.24.0->pandas_profiling) (2020.6.20)\n",
      "Requirement already satisfied: pytz>=2017.2 in c:\\users\\amshuman\\anaconda3\\lib\\site-packages (from pandas!=1.0.0,!=1.0.1,!=1.0.2,!=1.1.0,>=0.25.3->pandas_profiling) (2020.1)\n",
      "Requirement already satisfied: python-dateutil>=2.7.3 in c:\\users\\amshuman\\anaconda3\\lib\\site-packages (from pandas!=1.0.0,!=1.0.1,!=1.0.2,!=1.1.0,>=0.25.3->pandas_profiling) (2.8.1)\n",
      "Requirement already satisfied: pyparsing!=2.0.4,!=2.1.2,!=2.1.6,>=2.0.3 in c:\\users\\amshuman\\anaconda3\\lib\\site-packages (from matplotlib>=3.2.0->pandas_profiling) (2.4.7)\n",
      "Requirement already satisfied: kiwisolver>=1.0.1 in c:\\users\\amshuman\\anaconda3\\lib\\site-packages (from matplotlib>=3.2.0->pandas_profiling) (1.3.0)\n",
      "Requirement already satisfied: cycler>=0.10 in c:\\users\\amshuman\\anaconda3\\lib\\site-packages (from matplotlib>=3.2.0->pandas_profiling) (0.10.0)\n",
      "Requirement already satisfied: pillow>=6.2.0 in c:\\users\\amshuman\\anaconda3\\lib\\site-packages (from matplotlib>=3.2.0->pandas_profiling) (8.0.1)\n",
      "Requirement already satisfied: attrs>=19.3.0 in c:\\users\\amshuman\\anaconda3\\lib\\site-packages (from visions[type_image_path]==0.7.1->pandas_profiling) (20.3.0)\n",
      "Requirement already satisfied: networkx>=2.4 in c:\\users\\amshuman\\anaconda3\\lib\\site-packages (from visions[type_image_path]==0.7.1->pandas_profiling) (2.5)\n",
      "Requirement already satisfied: bottleneck in c:\\users\\amshuman\\anaconda3\\lib\\site-packages (from visions[type_image_path]==0.7.1->pandas_profiling) (1.3.2)\n",
      "Requirement already satisfied: multimethod==1.4 in c:\\users\\amshuman\\anaconda3\\lib\\site-packages (from visions[type_image_path]==0.7.1->pandas_profiling) (1.4)\n",
      "Requirement already satisfied: imagehash; extra == \"type_image_path\" in c:\\users\\amshuman\\anaconda3\\lib\\site-packages (from visions[type_image_path]==0.7.1->pandas_profiling) (4.2.1)\n",
      "Requirement already satisfied: six>=1.5 in c:\\users\\amshuman\\anaconda3\\lib\\site-packages (from python-dateutil>=2.7.3->pandas!=1.0.0,!=1.0.1,!=1.0.2,!=1.1.0,>=0.25.3->pandas_profiling) (1.15.0)\n",
      "Requirement already satisfied: decorator>=4.3.0 in c:\\users\\amshuman\\anaconda3\\lib\\site-packages (from networkx>=2.4->visions[type_image_path]==0.7.1->pandas_profiling) (4.4.2)\n",
      "Requirement already satisfied: PyWavelets in c:\\users\\amshuman\\anaconda3\\lib\\site-packages (from imagehash; extra == \"type_image_path\"->visions[type_image_path]==0.7.1->pandas_profiling) (1.1.1)\n"
     ]
    }
   ],
   "source": [
    "!pip install pandas_profiling"
   ]
  },
  {
   "cell_type": "code",
   "execution_count": 36,
   "id": "1aabcf35",
   "metadata": {},
   "outputs": [
    {
     "data": {
      "application/vnd.jupyter.widget-view+json": {
       "model_id": "01312e06f11a496fb8d43d26c3e813c8",
       "version_major": 2,
       "version_minor": 0
      },
      "text/plain": [
       "HBox(children=(HTML(value='Summarize dataset'), FloatProgress(value=0.0, max=21.0), HTML(value='')))"
      ]
     },
     "metadata": {},
     "output_type": "display_data"
    },
    {
     "name": "stdout",
     "output_type": "stream",
     "text": [
      "\n"
     ]
    },
    {
     "data": {
      "application/vnd.jupyter.widget-view+json": {
       "model_id": "ca412bf01c1d4bde8b2318f00f443fc3",
       "version_major": 2,
       "version_minor": 0
      },
      "text/plain": [
       "HBox(children=(HTML(value='Generate report structure'), FloatProgress(value=0.0, max=1.0), HTML(value='')))"
      ]
     },
     "metadata": {},
     "output_type": "display_data"
    },
    {
     "name": "stdout",
     "output_type": "stream",
     "text": [
      "\n"
     ]
    },
    {
     "data": {
      "application/vnd.jupyter.widget-view+json": {
       "model_id": "917d70a1ce404a03a6fa376aaac7f013",
       "version_major": 2,
       "version_minor": 0
      },
      "text/plain": [
       "HBox(children=(HTML(value='Render HTML'), FloatProgress(value=0.0, max=1.0), HTML(value='')))"
      ]
     },
     "metadata": {},
     "output_type": "display_data"
    },
    {
     "name": "stdout",
     "output_type": "stream",
     "text": [
      "\n"
     ]
    },
    {
     "data": {
      "application/vnd.jupyter.widget-view+json": {
       "model_id": "ef751ec1a04a42b1b0f268566431f4aa",
       "version_major": 2,
       "version_minor": 0
      },
      "text/plain": [
       "HBox(children=(HTML(value='Export report to file'), FloatProgress(value=0.0, max=1.0), HTML(value='')))"
      ]
     },
     "metadata": {},
     "output_type": "display_data"
    },
    {
     "name": "stdout",
     "output_type": "stream",
     "text": [
      "\n"
     ]
    }
   ],
   "source": [
    "from pandas_profiling import ProfileReport\n",
    "prof = ProfileReport(insuranceData)\n",
    "prof.to_file(output_file='output.html')"
   ]
  },
  {
   "cell_type": "code",
   "execution_count": 91,
   "id": "d29755b7",
   "metadata": {},
   "outputs": [],
   "source": [
    "import statsmodels.api as sm\n",
    "import numpy as np"
   ]
  },
  {
   "cell_type": "code",
   "execution_count": 92,
   "id": "57806bee",
   "metadata": {},
   "outputs": [
    {
     "data": {
      "text/plain": [
       "pandas.core.frame.DataFrame"
      ]
     },
     "execution_count": 92,
     "metadata": {},
     "output_type": "execute_result"
    }
   ],
   "source": [
    "train_dataset_Y = train_dataset['charges'].copy()\n",
    "train_dataset_X = train_dataset.drop('charges',axis=1)\n",
    "type(train_dataset_X)\n",
    "\n"
   ]
  },
  {
   "cell_type": "code",
   "execution_count": 93,
   "id": "94350343",
   "metadata": {},
   "outputs": [],
   "source": [
    "from sklearn.linear_model import LinearRegression"
   ]
  },
  {
   "cell_type": "code",
   "execution_count": 94,
   "id": "5556b764",
   "metadata": {},
   "outputs": [],
   "source": [
    "lm = LinearRegression()"
   ]
  },
  {
   "cell_type": "code",
   "execution_count": 95,
   "id": "7ffd5a7c",
   "metadata": {},
   "outputs": [
    {
     "data": {
      "text/html": [
       "<div>\n",
       "<style scoped>\n",
       "    .dataframe tbody tr th:only-of-type {\n",
       "        vertical-align: middle;\n",
       "    }\n",
       "\n",
       "    .dataframe tbody tr th {\n",
       "        vertical-align: top;\n",
       "    }\n",
       "\n",
       "    .dataframe thead th {\n",
       "        text-align: right;\n",
       "    }\n",
       "</style>\n",
       "<table border=\"1\" class=\"dataframe\">\n",
       "  <thead>\n",
       "    <tr style=\"text-align: right;\">\n",
       "      <th></th>\n",
       "      <th>age</th>\n",
       "      <th>sex</th>\n",
       "      <th>bmi</th>\n",
       "      <th>children</th>\n",
       "      <th>smoker</th>\n",
       "      <th>region</th>\n",
       "    </tr>\n",
       "  </thead>\n",
       "  <tbody>\n",
       "    <tr>\n",
       "      <th>1264</th>\n",
       "      <td>49</td>\n",
       "      <td>female</td>\n",
       "      <td>33.345</td>\n",
       "      <td>2</td>\n",
       "      <td>no</td>\n",
       "      <td>northeast</td>\n",
       "    </tr>\n",
       "    <tr>\n",
       "      <th>326</th>\n",
       "      <td>27</td>\n",
       "      <td>female</td>\n",
       "      <td>23.210</td>\n",
       "      <td>1</td>\n",
       "      <td>no</td>\n",
       "      <td>southeast</td>\n",
       "    </tr>\n",
       "    <tr>\n",
       "      <th>934</th>\n",
       "      <td>32</td>\n",
       "      <td>male</td>\n",
       "      <td>37.180</td>\n",
       "      <td>2</td>\n",
       "      <td>no</td>\n",
       "      <td>southeast</td>\n",
       "    </tr>\n",
       "    <tr>\n",
       "      <th>1024</th>\n",
       "      <td>47</td>\n",
       "      <td>female</td>\n",
       "      <td>45.320</td>\n",
       "      <td>1</td>\n",
       "      <td>no</td>\n",
       "      <td>southeast</td>\n",
       "    </tr>\n",
       "    <tr>\n",
       "      <th>1159</th>\n",
       "      <td>32</td>\n",
       "      <td>female</td>\n",
       "      <td>41.100</td>\n",
       "      <td>0</td>\n",
       "      <td>no</td>\n",
       "      <td>southwest</td>\n",
       "    </tr>\n",
       "  </tbody>\n",
       "</table>\n",
       "</div>"
      ],
      "text/plain": [
       "      age     sex     bmi  children smoker     region\n",
       "1264   49  female  33.345         2     no  northeast\n",
       "326    27  female  23.210         1     no  southeast\n",
       "934    32    male  37.180         2     no  southeast\n",
       "1024   47  female  45.320         1     no  southeast\n",
       "1159   32  female  41.100         0     no  southwest"
      ]
     },
     "execution_count": 95,
     "metadata": {},
     "output_type": "execute_result"
    }
   ],
   "source": [
    "train_dataset_X.head()"
   ]
  },
  {
   "cell_type": "code",
   "execution_count": 96,
   "id": "94255da5",
   "metadata": {},
   "outputs": [],
   "source": [
    "train_dataset_X[\"region\"].replace({\"southwest\": 1.0, \"southeast\": 2.0,\"northwest\": 3.0, \"northeast\": 4.0}, inplace=True)"
   ]
  },
  {
   "cell_type": "code",
   "execution_count": 97,
   "id": "3e56d3ff",
   "metadata": {},
   "outputs": [],
   "source": [
    "train_dataset_X[\"smoker\"].replace({\"no\": 0.0, \"yes\": 1.0}, inplace=True)"
   ]
  },
  {
   "cell_type": "code",
   "execution_count": 98,
   "id": "388b4e0f",
   "metadata": {},
   "outputs": [],
   "source": [
    "train_dataset_X[\"sex\"].replace({\"male\": 1.0, \"female\": 0}, inplace=True)"
   ]
  },
  {
   "cell_type": "code",
   "execution_count": 99,
   "id": "a6371661",
   "metadata": {},
   "outputs": [
    {
     "data": {
      "text/html": [
       "<div>\n",
       "<style scoped>\n",
       "    .dataframe tbody tr th:only-of-type {\n",
       "        vertical-align: middle;\n",
       "    }\n",
       "\n",
       "    .dataframe tbody tr th {\n",
       "        vertical-align: top;\n",
       "    }\n",
       "\n",
       "    .dataframe thead th {\n",
       "        text-align: right;\n",
       "    }\n",
       "</style>\n",
       "<table border=\"1\" class=\"dataframe\">\n",
       "  <thead>\n",
       "    <tr style=\"text-align: right;\">\n",
       "      <th></th>\n",
       "      <th>age</th>\n",
       "      <th>sex</th>\n",
       "      <th>bmi</th>\n",
       "      <th>children</th>\n",
       "      <th>smoker</th>\n",
       "      <th>region</th>\n",
       "    </tr>\n",
       "  </thead>\n",
       "  <tbody>\n",
       "    <tr>\n",
       "      <th>1264</th>\n",
       "      <td>49</td>\n",
       "      <td>0.0</td>\n",
       "      <td>33.345</td>\n",
       "      <td>2</td>\n",
       "      <td>0.0</td>\n",
       "      <td>4.0</td>\n",
       "    </tr>\n",
       "    <tr>\n",
       "      <th>326</th>\n",
       "      <td>27</td>\n",
       "      <td>0.0</td>\n",
       "      <td>23.210</td>\n",
       "      <td>1</td>\n",
       "      <td>0.0</td>\n",
       "      <td>2.0</td>\n",
       "    </tr>\n",
       "    <tr>\n",
       "      <th>934</th>\n",
       "      <td>32</td>\n",
       "      <td>1.0</td>\n",
       "      <td>37.180</td>\n",
       "      <td>2</td>\n",
       "      <td>0.0</td>\n",
       "      <td>2.0</td>\n",
       "    </tr>\n",
       "    <tr>\n",
       "      <th>1024</th>\n",
       "      <td>47</td>\n",
       "      <td>0.0</td>\n",
       "      <td>45.320</td>\n",
       "      <td>1</td>\n",
       "      <td>0.0</td>\n",
       "      <td>2.0</td>\n",
       "    </tr>\n",
       "    <tr>\n",
       "      <th>1159</th>\n",
       "      <td>32</td>\n",
       "      <td>0.0</td>\n",
       "      <td>41.100</td>\n",
       "      <td>0</td>\n",
       "      <td>0.0</td>\n",
       "      <td>1.0</td>\n",
       "    </tr>\n",
       "  </tbody>\n",
       "</table>\n",
       "</div>"
      ],
      "text/plain": [
       "      age  sex     bmi  children  smoker  region\n",
       "1264   49  0.0  33.345         2     0.0     4.0\n",
       "326    27  0.0  23.210         1     0.0     2.0\n",
       "934    32  1.0  37.180         2     0.0     2.0\n",
       "1024   47  0.0  45.320         1     0.0     2.0\n",
       "1159   32  0.0  41.100         0     0.0     1.0"
      ]
     },
     "execution_count": 99,
     "metadata": {},
     "output_type": "execute_result"
    }
   ],
   "source": [
    "train_dataset_X.head()\n"
   ]
  },
  {
   "cell_type": "code",
   "execution_count": 100,
   "id": "6fd73b23",
   "metadata": {},
   "outputs": [
    {
     "data": {
      "text/plain": [
       "LinearRegression()"
      ]
     },
     "execution_count": 100,
     "metadata": {},
     "output_type": "execute_result"
    }
   ],
   "source": [
    "lm.fit(train_dataset_X, train_dataset_Y)"
   ]
  },
  {
   "cell_type": "code",
   "execution_count": 101,
   "id": "5f8c2a87",
   "metadata": {},
   "outputs": [
    {
     "name": "stdout",
     "output_type": "stream",
     "text": [
      "Estimated intercept coefficient: -12676.935983879604\n"
     ]
    }
   ],
   "source": [
    "print('Estimated intercept coefficient: {}'.format(lm.intercept_))"
   ]
  },
  {
   "cell_type": "code",
   "execution_count": 102,
   "id": "fc8f3b4a",
   "metadata": {},
   "outputs": [
    {
     "data": {
      "text/plain": [
       "pandas.core.frame.DataFrame"
      ]
     },
     "execution_count": 102,
     "metadata": {},
     "output_type": "execute_result"
    }
   ],
   "source": [
    "test_dataset_Y = test_dataset['charges'].copy()\n",
    "test_dataset_X = test_dataset.drop('charges',axis=1)\n",
    "type(test_dataset_X)\n",
    "\n"
   ]
  },
  {
   "cell_type": "code",
   "execution_count": 103,
   "id": "1155792b",
   "metadata": {},
   "outputs": [],
   "source": [
    "test_dataset_X[\"sex\"].replace({\"male\": 1.0, \"female\": 0}, inplace=True)\n",
    "test_dataset_X[\"region\"].replace({\"southwest\": 1.0, \"southeast\": 2.0,\"northwest\": 3.0, \"northeast\": 4.0}, inplace=True)\n",
    "test_dataset_X[\"smoker\"].replace({\"no\": 0.0, \"yes\": 1.0}, inplace=True)"
   ]
  },
  {
   "cell_type": "code",
   "execution_count": 104,
   "id": "09679e22",
   "metadata": {},
   "outputs": [
    {
     "data": {
      "text/html": [
       "<div>\n",
       "<style scoped>\n",
       "    .dataframe tbody tr th:only-of-type {\n",
       "        vertical-align: middle;\n",
       "    }\n",
       "\n",
       "    .dataframe tbody tr th {\n",
       "        vertical-align: top;\n",
       "    }\n",
       "\n",
       "    .dataframe thead th {\n",
       "        text-align: right;\n",
       "    }\n",
       "</style>\n",
       "<table border=\"1\" class=\"dataframe\">\n",
       "  <thead>\n",
       "    <tr style=\"text-align: right;\">\n",
       "      <th></th>\n",
       "      <th>age</th>\n",
       "      <th>sex</th>\n",
       "      <th>bmi</th>\n",
       "      <th>children</th>\n",
       "      <th>smoker</th>\n",
       "      <th>region</th>\n",
       "    </tr>\n",
       "  </thead>\n",
       "  <tbody>\n",
       "    <tr>\n",
       "      <th>15</th>\n",
       "      <td>19</td>\n",
       "      <td>1.0</td>\n",
       "      <td>24.600</td>\n",
       "      <td>1</td>\n",
       "      <td>0.0</td>\n",
       "      <td>1.0</td>\n",
       "    </tr>\n",
       "    <tr>\n",
       "      <th>20</th>\n",
       "      <td>60</td>\n",
       "      <td>0.0</td>\n",
       "      <td>36.005</td>\n",
       "      <td>0</td>\n",
       "      <td>0.0</td>\n",
       "      <td>4.0</td>\n",
       "    </tr>\n",
       "    <tr>\n",
       "      <th>21</th>\n",
       "      <td>30</td>\n",
       "      <td>0.0</td>\n",
       "      <td>32.400</td>\n",
       "      <td>1</td>\n",
       "      <td>0.0</td>\n",
       "      <td>1.0</td>\n",
       "    </tr>\n",
       "    <tr>\n",
       "      <th>24</th>\n",
       "      <td>37</td>\n",
       "      <td>1.0</td>\n",
       "      <td>28.025</td>\n",
       "      <td>2</td>\n",
       "      <td>0.0</td>\n",
       "      <td>3.0</td>\n",
       "    </tr>\n",
       "    <tr>\n",
       "      <th>25</th>\n",
       "      <td>59</td>\n",
       "      <td>0.0</td>\n",
       "      <td>27.720</td>\n",
       "      <td>3</td>\n",
       "      <td>0.0</td>\n",
       "      <td>2.0</td>\n",
       "    </tr>\n",
       "  </tbody>\n",
       "</table>\n",
       "</div>"
      ],
      "text/plain": [
       "    age  sex     bmi  children  smoker  region\n",
       "15   19  1.0  24.600         1     0.0     1.0\n",
       "20   60  0.0  36.005         0     0.0     4.0\n",
       "21   30  0.0  32.400         1     0.0     1.0\n",
       "24   37  1.0  28.025         2     0.0     3.0\n",
       "25   59  0.0  27.720         3     0.0     2.0"
      ]
     },
     "execution_count": 104,
     "metadata": {},
     "output_type": "execute_result"
    }
   ],
   "source": [
    "test_dataset_X.head()"
   ]
  },
  {
   "cell_type": "code",
   "execution_count": 105,
   "id": "b64c91c1",
   "metadata": {},
   "outputs": [],
   "source": [
    "# first five predicted prices\n",
    "y_pred = lm.predict(test_dataset_X)"
   ]
  },
  {
   "cell_type": "code",
   "execution_count": 106,
   "id": "de81b849",
   "metadata": {},
   "outputs": [],
   "source": [
    "from sklearn.utils.validation import check_consistent_length, check_array\n",
    "\n",
    "def mean_absolute_percentage_error(y_true, y_pred,\n",
    "                                   sample_weight=None,\n",
    "                                   multioutput='uniform_average'):\n",
    "    \"\"\"Mean absolute percentage error regression loss.\n",
    "    Note here that we do not represent the output as a percentage in range\n",
    "    [0, 100]. Instead, we represent it in range [0, 1/eps]. Read more in the\n",
    "    :ref:`User Guide <mean_absolute_percentage_error>`.\n",
    "    .. versionadded:: 0.24\n",
    "    Parameters\n",
    "    ----------\n",
    "    y_true : array-like of shape (n_samples,) or (n_samples, n_outputs)\n",
    "        Ground truth (correct) target values.\n",
    "    y_pred : array-like of shape (n_samples,) or (n_samples, n_outputs)\n",
    "        Estimated target values.\n",
    "    sample_weight : array-like of shape (n_samples,), default=None\n",
    "        Sample weights.\n",
    "    multioutput : {'raw_values', 'uniform_average'} or array-like\n",
    "        Defines aggregating of multiple output values.\n",
    "        Array-like value defines weights used to average errors.\n",
    "        If input is list then the shape must be (n_outputs,).\n",
    "        'raw_values' :\n",
    "            Returns a full set of errors in case of multioutput input.\n",
    "        'uniform_average' :\n",
    "            Errors of all outputs are averaged with uniform weight.\n",
    "    Returns\n",
    "    -------\n",
    "    loss : float or ndarray of floats in the range [0, 1/eps]\n",
    "        If multioutput is 'raw_values', then mean absolute percentage error\n",
    "        is returned for each output separately.\n",
    "        If multioutput is 'uniform_average' or an ndarray of weights, then the\n",
    "        weighted average of all output errors is returned.\n",
    "        MAPE output is non-negative floating point. The best value is 0.0.\n",
    "        But note the fact that bad predictions can lead to arbitarily large\n",
    "        MAPE values, especially if some y_true values are very close to zero.\n",
    "        Note that we return a large value instead of `inf` when y_true is zero.\n",
    "    Examples\n",
    "    --------\n",
    "    >>> from sklearn.metrics import mean_absolute_percentage_error\n",
    "    >>> y_true = [3, -0.5, 2, 7]\n",
    "    >>> y_pred = [2.5, 0.0, 2, 8]\n",
    "    >>> mean_absolute_percentage_error(y_true, y_pred)\n",
    "    0.3273...\n",
    "    >>> y_true = [[0.5, 1], [-1, 1], [7, -6]]\n",
    "    >>> y_pred = [[0, 2], [-1, 2], [8, -5]]\n",
    "    >>> mean_absolute_percentage_error(y_true, y_pred)\n",
    "    0.5515...\n",
    "    >>> mean_absolute_percentage_error(y_true, y_pred, multioutput=[0.3, 0.7])\n",
    "    0.6198...\n",
    "    \"\"\"\n",
    "    y_type, y_true, y_pred, multioutput = _check_reg_targets(\n",
    "        y_true, y_pred, multioutput)\n",
    "    check_consistent_length(y_true, y_pred, sample_weight)\n",
    "    epsilon = np.finfo(np.float64).eps\n",
    "    mape = np.abs(y_pred - y_true) / np.maximum(np.abs(y_true), epsilon)\n",
    "    output_errors = np.average(mape,\n",
    "                               weights=sample_weight, axis=0)\n",
    "    if isinstance(multioutput, str):\n",
    "        if multioutput == 'raw_values':\n",
    "            return output_errors\n",
    "        elif multioutput == 'uniform_average':\n",
    "            # pass None as weights to np.average: uniform mean\n",
    "            multioutput = None\n",
    "\n",
    "    return np.average(output_errors, weights=multioutput)\n",
    "\n",
    "def _check_reg_targets(y_true, y_pred, multioutput, dtype=\"numeric\"):\n",
    "    \"\"\"Check that y_true and y_pred belong to the same regression task.\n",
    "    Parameters\n",
    "    ----------\n",
    "    y_true : array-like\n",
    "    y_pred : array-like\n",
    "    multioutput : array-like or string in ['raw_values', uniform_average',\n",
    "        'variance_weighted'] or None\n",
    "        None is accepted due to backward compatibility of r2_score().\n",
    "    Returns\n",
    "    -------\n",
    "    type_true : one of {'continuous', continuous-multioutput'}\n",
    "        The type of the true target data, as output by\n",
    "        'utils.multiclass.type_of_target'.\n",
    "    y_true : array-like of shape (n_samples, n_outputs)\n",
    "        Ground truth (correct) target values.\n",
    "    y_pred : array-like of shape (n_samples, n_outputs)\n",
    "        Estimated target values.\n",
    "    multioutput : array-like of shape (n_outputs) or string in ['raw_values',\n",
    "        uniform_average', 'variance_weighted'] or None\n",
    "        Custom output weights if ``multioutput`` is array-like or\n",
    "        just the corresponding argument if ``multioutput`` is a\n",
    "        correct keyword.\n",
    "    dtype : str or list, default=\"numeric\"\n",
    "        the dtype argument passed to check_array.\n",
    "    \"\"\"\n",
    "    check_consistent_length(y_true, y_pred)\n",
    "    y_true = check_array(y_true, ensure_2d=False, dtype=dtype)\n",
    "    y_pred = check_array(y_pred, ensure_2d=False, dtype=dtype)\n",
    "\n",
    "    if y_true.ndim == 1:\n",
    "        y_true = y_true.reshape((-1, 1))\n",
    "\n",
    "    if y_pred.ndim == 1:\n",
    "        y_pred = y_pred.reshape((-1, 1))\n",
    "\n",
    "    if y_true.shape[1] != y_pred.shape[1]:\n",
    "        raise ValueError(\"y_true and y_pred have different number of output \"\n",
    "                         \"({0}!={1})\".format(y_true.shape[1], y_pred.shape[1]))\n",
    "\n",
    "    n_outputs = y_true.shape[1]\n",
    "    allowed_multioutput_str = ('raw_values', 'uniform_average',\n",
    "                               'variance_weighted')\n",
    "    if isinstance(multioutput, str):\n",
    "        if multioutput not in allowed_multioutput_str:\n",
    "            raise ValueError(\"Allowed 'multioutput' string values are {}. \"\n",
    "                             \"You provided multioutput={!r}\".format(\n",
    "                                 allowed_multioutput_str,\n",
    "                                 multioutput))\n",
    "    elif multioutput is not None:\n",
    "        multioutput = check_array(multioutput, ensure_2d=False)\n",
    "        if n_outputs == 1:\n",
    "            raise ValueError(\"Custom weights are useful only in \"\n",
    "                             \"multi-output cases.\")\n",
    "        elif n_outputs != len(multioutput):\n",
    "            raise ValueError((\"There must be equally many custom weights \"\n",
    "                              \"(%d) as outputs (%d).\") %\n",
    "                             (len(multioutput), n_outputs))\n",
    "    y_type = 'continuous' if n_outputs == 1 else 'continuous-multioutput'\n",
    "\n",
    "    return y_type, y_true, y_pred, multioutput"
   ]
  },
  {
   "cell_type": "code",
   "execution_count": 134,
   "id": "d8a57806",
   "metadata": {},
   "outputs": [],
   "source": [
    "from sklearn.metrics import mean_squared_error\n",
    "from sklearn.metrics import mean_absolute_error\n",
    "from math import sqrt\n",
    "\n",
    "linearMAE = mean_absolute_error(test_dataset_Y, y_pred)\n",
    "linearRMS = sqrt(mean_squared_error(test_dataset_Y, y_pred))\n",
    "linearMAPE = mean_absolute_percentage_error(test_dataset_Y, y_pred)"
   ]
  },
  {
   "cell_type": "code",
   "execution_count": 135,
   "id": "92ab4090",
   "metadata": {},
   "outputs": [],
   "source": [
    "from sklearn.metrics import mean_absolute_error"
   ]
  },
  {
   "cell_type": "code",
   "execution_count": 136,
   "id": "85d23d86",
   "metadata": {},
   "outputs": [
    {
     "data": {
      "text/plain": [
       "3629.109510852434"
      ]
     },
     "execution_count": 136,
     "metadata": {},
     "output_type": "execute_result"
    }
   ],
   "source": [
    "mean_absolute_error(test_dataset_Y, y_pred)"
   ]
  },
  {
   "cell_type": "code",
   "execution_count": 137,
   "id": "f3b444ef",
   "metadata": {},
   "outputs": [],
   "source": [
    "from sklearn import linear_model"
   ]
  },
  {
   "cell_type": "code",
   "execution_count": 138,
   "id": "db96cbe6",
   "metadata": {},
   "outputs": [],
   "source": [
    "regRidge = linear_model.Ridge(alpha=.5)"
   ]
  },
  {
   "cell_type": "code",
   "execution_count": 139,
   "id": "da4f31bb",
   "metadata": {},
   "outputs": [
    {
     "data": {
      "text/plain": [
       "Ridge(alpha=0.5)"
      ]
     },
     "execution_count": 139,
     "metadata": {},
     "output_type": "execute_result"
    }
   ],
   "source": [
    "regRidge.fit(train_dataset_X, train_dataset_Y)"
   ]
  },
  {
   "cell_type": "code",
   "execution_count": 140,
   "id": "36ef0a52",
   "metadata": {},
   "outputs": [
    {
     "data": {
      "text/plain": [
       "array([  253.86966727,  -232.27263011,   318.13575429,   492.14381148,\n",
       "       23018.38883335,   400.48189288])"
      ]
     },
     "execution_count": 140,
     "metadata": {},
     "output_type": "execute_result"
    }
   ],
   "source": [
    "regRidge.coef_"
   ]
  },
  {
   "cell_type": "code",
   "execution_count": 141,
   "id": "ddb43004",
   "metadata": {},
   "outputs": [
    {
     "data": {
      "text/plain": [
       "-12662.874170033472"
      ]
     },
     "execution_count": 141,
     "metadata": {},
     "output_type": "execute_result"
    }
   ],
   "source": [
    "regRidge.intercept_"
   ]
  },
  {
   "cell_type": "code",
   "execution_count": 142,
   "id": "0141f11b",
   "metadata": {},
   "outputs": [],
   "source": [
    "y_pred_ridge = regRidge.predict(test_dataset_X)"
   ]
  },
  {
   "cell_type": "code",
   "execution_count": 143,
   "id": "e6b3da42",
   "metadata": {},
   "outputs": [],
   "source": [
    "ridgeMAE = mean_absolute_error(test_dataset_Y, y_pred_ridge)\n",
    "ridgeRMS = sqrt(mean_squared_error(test_dataset_Y, y_pred_ridge))\n",
    "ridgeMAPE = mean_absolute_percentage_error(test_dataset_Y, y_pred_ridge)"
   ]
  },
  {
   "cell_type": "code",
   "execution_count": 144,
   "id": "84594417",
   "metadata": {},
   "outputs": [],
   "source": [
    "regLasso = linear_model.Lasso(alpha=0.1)"
   ]
  },
  {
   "cell_type": "code",
   "execution_count": 145,
   "id": "a5cb1c24",
   "metadata": {},
   "outputs": [
    {
     "data": {
      "text/plain": [
       "Lasso(alpha=0.1)"
      ]
     },
     "execution_count": 145,
     "metadata": {},
     "output_type": "execute_result"
    }
   ],
   "source": [
    "regLasso.fit(train_dataset_X, train_dataset_Y)"
   ]
  },
  {
   "cell_type": "code",
   "execution_count": 146,
   "id": "1a53adef",
   "metadata": {},
   "outputs": [
    {
     "data": {
      "text/plain": [
       "array([  253.92961456,  -236.1887497 ,   318.17030238,   491.84660883,\n",
       "       23080.27531448,   400.36863707])"
      ]
     },
     "execution_count": 146,
     "metadata": {},
     "output_type": "execute_result"
    }
   ],
   "source": [
    "regLasso.coef_"
   ]
  },
  {
   "cell_type": "code",
   "execution_count": 147,
   "id": "97c22ec8",
   "metadata": {},
   "outputs": [
    {
     "data": {
      "text/plain": [
       "-12676.512890644426"
      ]
     },
     "execution_count": 147,
     "metadata": {},
     "output_type": "execute_result"
    }
   ],
   "source": [
    "regLasso.intercept_"
   ]
  },
  {
   "cell_type": "code",
   "execution_count": 148,
   "id": "19abddf2",
   "metadata": {},
   "outputs": [],
   "source": [
    "y_pred_Lasso = regLasso.predict(test_dataset_X)"
   ]
  },
  {
   "cell_type": "code",
   "execution_count": 149,
   "id": "dd349347",
   "metadata": {},
   "outputs": [],
   "source": [
    "lassoMAE = mean_absolute_error(test_dataset_Y, y_pred_Lasso)\n",
    "lassoRMS = sqrt(mean_squared_error(test_dataset_Y, y_pred_Lasso))\n",
    "lassoMAPE = mean_absolute_percentage_error(test_dataset_Y, y_pred_Lasso)"
   ]
  },
  {
   "cell_type": "code",
   "execution_count": 150,
   "id": "0c622c67",
   "metadata": {},
   "outputs": [],
   "source": [
    "from sklearn.linear_model import SGDRegressor\n",
    "from sklearn.pipeline import make_pipeline\n",
    "from sklearn.preprocessing import StandardScaler"
   ]
  },
  {
   "cell_type": "code",
   "execution_count": 151,
   "id": "d48d349d",
   "metadata": {},
   "outputs": [],
   "source": [
    "regSGD = make_pipeline(StandardScaler(), SGDRegressor(max_iter=1000, tol=1e-3))"
   ]
  },
  {
   "cell_type": "code",
   "execution_count": 152,
   "id": "64d0c26d",
   "metadata": {},
   "outputs": [
    {
     "data": {
      "text/plain": [
       "Pipeline(steps=[('standardscaler', StandardScaler()),\n",
       "                ('sgdregressor', SGDRegressor())])"
      ]
     },
     "execution_count": 152,
     "metadata": {},
     "output_type": "execute_result"
    }
   ],
   "source": [
    "regSGD.fit(train_dataset_X, train_dataset_Y)"
   ]
  },
  {
   "cell_type": "code",
   "execution_count": 153,
   "id": "c3b7e605",
   "metadata": {},
   "outputs": [],
   "source": [
    "y_pred_SGD = regSGD.predict(test_dataset_X)"
   ]
  },
  {
   "cell_type": "code",
   "execution_count": 154,
   "id": "db00c425",
   "metadata": {},
   "outputs": [],
   "source": [
    "SGDMAE = mean_absolute_error(test_dataset_Y, y_pred_SGD)\n",
    "SGDRMS = sqrt(mean_squared_error(test_dataset_Y, y_pred_SGD))\n",
    "SGDMAPE = mean_absolute_percentage_error(test_dataset_Y, y_pred_SGD)"
   ]
  },
  {
   "cell_type": "code",
   "execution_count": 128,
   "id": "e4df46aa",
   "metadata": {},
   "outputs": [
    {
     "data": {
      "text/plain": [
       "15     1837.23700\n",
       "20    13228.84695\n",
       "21     4149.73600\n",
       "24     6203.90175\n",
       "25    14001.13380\n",
       "45    20630.28351\n",
       "56    13607.36875\n",
       "64    14711.74380\n",
       "78     2755.02095\n",
       "80     4441.21315\n",
       "Name: charges, dtype: float64"
      ]
     },
     "execution_count": 128,
     "metadata": {},
     "output_type": "execute_result"
    }
   ],
   "source": [
    "test_dataset_Y.head(10)"
   ]
  },
  {
   "cell_type": "code",
   "execution_count": 129,
   "id": "f4227352",
   "metadata": {},
   "outputs": [
    {
     "data": {
      "text/plain": [
       "array([  621.49847181, 15586.3769094 ,  6108.21390369,  7560.55213969,\n",
       "       13327.00378776])"
      ]
     },
     "execution_count": 129,
     "metadata": {},
     "output_type": "execute_result"
    }
   ],
   "source": [
    "y_pred_SGD[:5]"
   ]
  },
  {
   "cell_type": "code",
   "execution_count": 130,
   "id": "cf025aa5",
   "metadata": {},
   "outputs": [],
   "source": [
    "from sklearn.ensemble import RandomForestRegressor"
   ]
  },
  {
   "cell_type": "code",
   "execution_count": 131,
   "id": "fe133124",
   "metadata": {},
   "outputs": [],
   "source": [
    "regressor = RandomForestRegressor(n_estimators = 100, random_state = 0)"
   ]
  },
  {
   "cell_type": "code",
   "execution_count": 132,
   "id": "6fd1f487",
   "metadata": {},
   "outputs": [
    {
     "data": {
      "text/plain": [
       "RandomForestRegressor(random_state=0)"
      ]
     },
     "execution_count": 132,
     "metadata": {},
     "output_type": "execute_result"
    }
   ],
   "source": [
    "regressor.fit(train_dataset_X, train_dataset_Y)"
   ]
  },
  {
   "cell_type": "code",
   "execution_count": 133,
   "id": "9f00d091",
   "metadata": {},
   "outputs": [],
   "source": [
    "Y_pred_rf = regressor.predict(test_dataset_X)"
   ]
  },
  {
   "cell_type": "code",
   "execution_count": 185,
   "id": "c84249aa",
   "metadata": {},
   "outputs": [],
   "source": [
    "rfMAE = mean_absolute_error(test_dataset_Y, Y_pred_rf)\n",
    "rfRMS = sqrt(mean_squared_error(test_dataset_Y, Y_pred_rf))\n",
    "rfMAPE = mean_absolute_percentage_error(test_dataset_Y, Y_pred_rf)"
   ]
  },
  {
   "cell_type": "code",
   "execution_count": 186,
   "id": "8e4ad024",
   "metadata": {},
   "outputs": [
    {
     "data": {
      "text/plain": [
       "array([ 1876.5317445, 13507.9744913,  5191.5799521,  6567.2028355,\n",
       "       14473.4370436, 12054.4241057, 14327.7085952, 17523.1671569,\n",
       "        2757.159161 ,  4939.4560234])"
      ]
     },
     "execution_count": 186,
     "metadata": {},
     "output_type": "execute_result"
    }
   ],
   "source": [
    "Y_pred_rf[:10]"
   ]
  },
  {
   "cell_type": "code",
   "execution_count": 187,
   "id": "11653e97",
   "metadata": {},
   "outputs": [],
   "source": [
    "from sklearn import svm, datasets\n",
    "from sklearn.model_selection import GridSearchCV\n",
    "\n"
   ]
  },
  {
   "cell_type": "code",
   "execution_count": 188,
   "id": "91d9c73b",
   "metadata": {},
   "outputs": [
    {
     "data": {
      "text/plain": [
       "dict_keys(['alpha', 'copy_X', 'fit_intercept', 'max_iter', 'normalize', 'random_state', 'solver', 'tol'])"
      ]
     },
     "execution_count": 188,
     "metadata": {},
     "output_type": "execute_result"
    }
   ],
   "source": [
    "regRidge.get_params().keys()"
   ]
  },
  {
   "cell_type": "code",
   "execution_count": 189,
   "id": "11ce7edf",
   "metadata": {},
   "outputs": [
    {
     "name": "stdout",
     "output_type": "stream",
     "text": [
      "{'copy_X': True, 'fit_intercept': True, 'normalize': False}\n"
     ]
    }
   ],
   "source": [
    "#param_grid = [{'C': [0.001, 0.1, 1, 10, 100]}]\n",
    "parameters = {'fit_intercept':[True,False], 'normalize':[True,False], 'copy_X':[True, False]}\n",
    "\n",
    "\n",
    "grid = GridSearchCV(regRidge, param_grid = parameters,cv=6)\n",
    "\n",
    "grid.fit(train_dataset_X, train_dataset_Y)\n",
    "print(grid.best_params_)\n",
    "grid_predictions = grid.predict(test_dataset_X) \n",
    "\n",
    "\n"
   ]
  },
  {
   "cell_type": "code",
   "execution_count": 190,
   "id": "050dc972",
   "metadata": {},
   "outputs": [
    {
     "data": {
      "text/plain": [
       "200"
      ]
     },
     "execution_count": 190,
     "metadata": {},
     "output_type": "execute_result"
    }
   ],
   "source": [
    "len(grid_predictions)"
   ]
  },
  {
   "cell_type": "code",
   "execution_count": 191,
   "id": "bac06009",
   "metadata": {},
   "outputs": [],
   "source": [
    "ridgeMAE = mean_absolute_error(test_dataset_Y, grid_predictions)\n",
    "ridgeRMS = sqrt(mean_squared_error(test_dataset_Y, grid_predictions))\n",
    "ridgeMAPE = mean_absolute_percentage_error(test_dataset_Y, grid_predictions)"
   ]
  },
  {
   "cell_type": "code",
   "execution_count": 192,
   "id": "116aaf04",
   "metadata": {},
   "outputs": [
    {
     "data": {
      "text/plain": [
       "28192414.781773586"
      ]
     },
     "execution_count": 192,
     "metadata": {},
     "output_type": "execute_result"
    }
   ],
   "source": [
    "from sklearn.metrics import mean_squared_error\n",
    "mean_squared_error(test_dataset_Y, grid_predictions)"
   ]
  },
  {
   "cell_type": "code",
   "execution_count": 193,
   "id": "f415034f",
   "metadata": {},
   "outputs": [],
   "source": [
    "from sklearn.model_selection import cross_val_score\n",
    "from sklearn.model_selection import RepeatedKFold"
   ]
  },
  {
   "cell_type": "code",
   "execution_count": 194,
   "id": "325b5bf8",
   "metadata": {},
   "outputs": [],
   "source": [
    "from xgboost import XGBRegressor"
   ]
  },
  {
   "cell_type": "code",
   "execution_count": 195,
   "id": "ed09bd0d",
   "metadata": {},
   "outputs": [],
   "source": [
    "XGBmodel = XGBRegressor()"
   ]
  },
  {
   "cell_type": "code",
   "execution_count": 196,
   "id": "05166e26",
   "metadata": {},
   "outputs": [],
   "source": [
    "cv = RepeatedKFold(n_splits=25, n_repeats=5, random_state=1)"
   ]
  },
  {
   "cell_type": "code",
   "execution_count": 197,
   "id": "a68095d1",
   "metadata": {},
   "outputs": [],
   "source": [
    "cvscr = cross_val_score(XGBmodel, train_dataset_X, train_dataset_Y, scoring='neg_mean_absolute_error', cv=cv, n_jobs=-1)"
   ]
  },
  {
   "cell_type": "code",
   "execution_count": 198,
   "id": "1c15da03",
   "metadata": {},
   "outputs": [],
   "source": [
    "from numpy import absolute"
   ]
  },
  {
   "cell_type": "code",
   "execution_count": 199,
   "id": "c57ee0f0",
   "metadata": {},
   "outputs": [],
   "source": [
    "XGBscores = absolute(cvscr)"
   ]
  },
  {
   "cell_type": "code",
   "execution_count": 200,
   "id": "bd933e7b",
   "metadata": {},
   "outputs": [
    {
     "name": "stdout",
     "output_type": "stream",
     "text": [
      "Mean MAE: 2981.053 (658.391)\n"
     ]
    }
   ],
   "source": [
    "print('Mean MAE: %.3f (%.3f)' % (XGBscores.mean(), XGBscores.std()) )"
   ]
  },
  {
   "cell_type": "code",
   "execution_count": 201,
   "id": "823238aa",
   "metadata": {},
   "outputs": [
    {
     "data": {
      "text/plain": [
       "XGBRegressor(base_score=0.5, booster='gbtree', colsample_bylevel=1,\n",
       "             colsample_bynode=1, colsample_bytree=1, gamma=0, gpu_id=-1,\n",
       "             importance_type='gain', interaction_constraints='',\n",
       "             learning_rate=0.300000012, max_delta_step=0, max_depth=6,\n",
       "             min_child_weight=1, missing=nan, monotone_constraints='()',\n",
       "             n_estimators=100, n_jobs=8, num_parallel_tree=1, random_state=0,\n",
       "             reg_alpha=0, reg_lambda=1, scale_pos_weight=1, subsample=1,\n",
       "             tree_method='exact', validate_parameters=1, verbosity=None)"
      ]
     },
     "execution_count": 201,
     "metadata": {},
     "output_type": "execute_result"
    }
   ],
   "source": [
    "XGBmodel.fit(train_dataset_X, train_dataset_Y)"
   ]
  },
  {
   "cell_type": "code",
   "execution_count": 202,
   "id": "9f2af573",
   "metadata": {},
   "outputs": [],
   "source": [
    "y_pred_XGB = XGBmodel.predict(test_dataset_X)"
   ]
  },
  {
   "cell_type": "code",
   "execution_count": 203,
   "id": "4818295e",
   "metadata": {},
   "outputs": [],
   "source": [
    "XGBMae = mean_absolute_error(test_dataset_Y, y_pred_XGB)\n",
    "XGBRMS = sqrt(mean_squared_error(test_dataset_Y, y_pred_XGB))\n",
    "XGBMAPE = mean_absolute_percentage_error(test_dataset_Y, y_pred_XGB)"
   ]
  },
  {
   "cell_type": "code",
   "execution_count": 204,
   "id": "4076cf9a",
   "metadata": {},
   "outputs": [],
   "source": [
    "import lightgbm as lgb"
   ]
  },
  {
   "cell_type": "code",
   "execution_count": 205,
   "id": "4ca85f9e",
   "metadata": {},
   "outputs": [],
   "source": [
    "lgbmModel = lgb.LGBMRegressor()"
   ]
  },
  {
   "cell_type": "code",
   "execution_count": 206,
   "id": "ed2fad7f",
   "metadata": {},
   "outputs": [],
   "source": [
    "cv = RepeatedKFold(n_splits=25, n_repeats=5, random_state=1)"
   ]
  },
  {
   "cell_type": "code",
   "execution_count": 207,
   "id": "4ffecb99",
   "metadata": {},
   "outputs": [],
   "source": [
    "cvscr = cross_val_score(lgbmModel, train_dataset_X, train_dataset_Y, scoring='neg_mean_absolute_error', cv=cv, n_jobs=-1)"
   ]
  },
  {
   "cell_type": "code",
   "execution_count": 208,
   "id": "dac4b541",
   "metadata": {},
   "outputs": [
    {
     "data": {
      "text/plain": [
       "LGBMRegressor()"
      ]
     },
     "execution_count": 208,
     "metadata": {},
     "output_type": "execute_result"
    }
   ],
   "source": [
    "lgbmModel.fit(train_dataset_X, train_dataset_Y)"
   ]
  },
  {
   "cell_type": "code",
   "execution_count": 209,
   "id": "d271acfe",
   "metadata": {},
   "outputs": [],
   "source": [
    "y_pred_LGBM = lgbmModel.predict(test_dataset_X)"
   ]
  },
  {
   "cell_type": "code",
   "execution_count": 210,
   "id": "a0e6be34",
   "metadata": {},
   "outputs": [],
   "source": [
    "LGBMMAE = mean_absolute_error(test_dataset_Y, y_pred_LGBM)\n",
    "LGBMRMS = sqrt(mean_squared_error(test_dataset_Y, y_pred_LGBM))\n",
    "LGBMMAPE = mean_absolute_percentage_error(test_dataset_Y, y_pred_LGBM)"
   ]
  },
  {
   "cell_type": "code",
   "execution_count": 211,
   "id": "d8f2f88e",
   "metadata": {},
   "outputs": [
    {
     "name": "stdout",
     "output_type": "stream",
     "text": [
      "Requirement already satisfied: tabulate in c:\\users\\amshuman\\anaconda3\\lib\\site-packages (0.8.9)\n"
     ]
    }
   ],
   "source": [
    "!pip install tabulate"
   ]
  },
  {
   "cell_type": "code",
   "execution_count": 212,
   "id": "86c50e4a",
   "metadata": {},
   "outputs": [],
   "source": [
    "from tabulate import tabulate"
   ]
  },
  {
   "cell_type": "code",
   "execution_count": 215,
   "id": "b68d8f0c",
   "metadata": {},
   "outputs": [
    {
     "name": "stdout",
     "output_type": "stream",
     "text": [
      "+---------------+---------+---------+----------+------------------+--------------------+\n",
      "| Algorithm     |     MAE |    RMSE |     MAPE |   Mean (Charges) |   Median (Charges) |\n",
      "|---------------+---------+---------+----------+------------------+--------------------|\n",
      "| Linear        | 3629.11 | 5307.92 | 0.450496 |             2134 |               5678 |\n",
      "| Ridge         | 3634.17 | 5309.65 | 0.451491 |             7654 |               5677 |\n",
      "| Lasso         | 3629.16 | 5307.92 | 0.450507 |             7654 |               5677 |\n",
      "| St Grd Dsc    | 3633.46 | 5308.18 | 0.454109 |             7654 |               5677 |\n",
      "| Random Forest | 2421.24 | 4384.61 | 0.377155 |             7654 |               5677 |\n",
      "| XGB           | 2857.21 | 4904.07 | 0.493358 |             7654 |               5677 |\n",
      "| LGBM          | 2411.88 | 4234.61 | 0.377277 |             7654 |               5677 |\n",
      "+---------------+---------+---------+----------+------------------+--------------------+\n"
     ]
    }
   ],
   "source": [
    "table = [[\"Linear \",linearMAE,linearRMS,linearMAPE,2134,5678],[\"Ridge\",ridgeMAE,ridgeRMS,ridgeMAPE,7654,5677],[\"Lasso\",lassoMAE,lassoRMS,lassoMAPE,7654,5677],[\"St Grd Dsc\",SGDMAE,SGDRMS,SGDMAPE,7654,5677], [\"Random Forest\",rfMAE,rfRMS,rfMAPE,7654,5677],[\"XGB\",XGBMae,XGBRMS,XGBMAPE,7654,5677], [\"LGBM\",LGBMMAE,LGBMRMS,LGBMMAPE,7654,5677]]\n",
    "\n",
    "print(tabulate(table, headers=[\"Algorithm \",\"MAE\", \"RMSE\",\"MAPE\",\"Mean (Charges)\", \"Median (Charges)\"],tablefmt=\"psql\"))"
   ]
  },
  {
   "cell_type": "code",
   "execution_count": null,
   "id": "251a0254",
   "metadata": {},
   "outputs": [],
   "source": []
  },
  {
   "cell_type": "code",
   "execution_count": null,
   "id": "4c8b70d7",
   "metadata": {},
   "outputs": [],
   "source": []
  }
 ],
 "metadata": {
  "kernelspec": {
   "display_name": "Python 3",
   "language": "python",
   "name": "python3"
  },
  "language_info": {
   "codemirror_mode": {
    "name": "ipython",
    "version": 3
   },
   "file_extension": ".py",
   "mimetype": "text/x-python",
   "name": "python",
   "nbconvert_exporter": "python",
   "pygments_lexer": "ipython3",
   "version": "3.8.5"
  }
 },
 "nbformat": 4,
 "nbformat_minor": 5
}
